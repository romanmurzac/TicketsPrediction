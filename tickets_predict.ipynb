{
 "cells": [
  {
   "cell_type": "markdown",
   "metadata": {},
   "source": [
    "# Company Case Study"
   ]
  },
  {
   "cell_type": "markdown",
   "metadata": {},
   "source": [
    "## 1. Statements\n",
    "\n",
    "### 1.1. Business unterstanding\n",
    "\n",
    "Company wants to introduce a new router model. To reduce the impact in case the router does not work as expected and to gain experience with the new model, the router is first introduced in two piloting regions using two different methods (method A and B). Contrary to method B, method A is a staggered rollout, furthermore the router has a slightly different configuration. Company plans to introduce the router in the remaining regions over the next months.\n",
    "\n",
    "### 1.2. Analytic approach\n",
    "\n",
    "•\tAt Company, customer calls is documented as “tickets”. So each ticket corresponds to a problem that the customer has with their internet connection.\\\n",
    "•\tTherefore, the number of tickets can be used to estimate how error prone a router is.\n",
    "\n",
    "*Customer tickets*\\\n",
    "\tColumn 1: when the ticket was opened\\\n",
    "\tColumn 2: unique customer number\\\n",
    "*Customers by region*\\\n",
    "\tColumn 1: unique customer number\\\n",
    "\tColumn 2: region the customer is located in\n",
    "\n",
    "### 1.3. Data requirements\n",
    "\n",
    "•\tHow many additional tickets should be expected in the remaining regions if method A or B is used?\\\n",
    "•\tWhich method would be recommended to management, and why?"
   ]
  },
  {
   "cell_type": "markdown",
   "metadata": {},
   "source": [
    "## 2. Data processing"
   ]
  },
  {
   "cell_type": "code",
   "execution_count": 545,
   "metadata": {},
   "outputs": [],
   "source": [
    "# Import necessary libraries, packages, and modules\n",
    "import numpy as np\n",
    "import pandas as pd\n",
    "import matplotlib.pyplot as plt\n",
    "import seaborn as sns\n",
    "\n",
    "from sklearn.model_selection import train_test_split\n",
    "from sklearn.compose import ColumnTransformer\n",
    "from sklearn.preprocessing import OneHotEncoder\n",
    "from sklearn.linear_model import LinearRegression\n",
    "from sklearn.metrics import confusion_matrix, accuracy_score"
   ]
  },
  {
   "cell_type": "markdown",
   "metadata": {},
   "source": [
    "### 2.1. Data understanding\n",
    "\n",
    "1. Load data\n",
    "2. Take a sample\n",
    "3. Show initial dataframe shape\n",
    "4. Show data types\n",
    "    * Change if applicable\n",
    "5. Show analytical description\n",
    "6. Show information\n",
    "7. Check if dataframe contains null values\n",
    "    * Drop null value\n",
    "    * Fill null value\n",
    "8. Check if dataframe contains duplicate values\n",
    "    * Drop duplicates\n",
    "    * Keep duplicates\n",
    "9. Show final dataframe shape"
   ]
  },
  {
   "cell_type": "markdown",
   "metadata": {},
   "source": [
    "#### A. Accounts dataframe"
   ]
  },
  {
   "cell_type": "code",
   "execution_count": 546,
   "metadata": {},
   "outputs": [],
   "source": [
    "# 1. Load Accounts dataset\n",
    "accounts_df = pd.read_csv(\"accounts_v2.csv\", delimiter=\",\", header=0)"
   ]
  },
  {
   "cell_type": "code",
   "execution_count": 547,
   "metadata": {},
   "outputs": [
    {
     "data": {
      "text/html": [
       "<div>\n",
       "<style scoped>\n",
       "    .dataframe tbody tr th:only-of-type {\n",
       "        vertical-align: middle;\n",
       "    }\n",
       "\n",
       "    .dataframe tbody tr th {\n",
       "        vertical-align: top;\n",
       "    }\n",
       "\n",
       "    .dataframe thead th {\n",
       "        text-align: right;\n",
       "    }\n",
       "</style>\n",
       "<table border=\"1\" class=\"dataframe\">\n",
       "  <thead>\n",
       "    <tr style=\"text-align: right;\">\n",
       "      <th></th>\n",
       "      <th>account_number</th>\n",
       "      <th>region</th>\n",
       "    </tr>\n",
       "  </thead>\n",
       "  <tbody>\n",
       "    <tr>\n",
       "      <th>642901</th>\n",
       "      <td>2843478</td>\n",
       "      <td>Region 3</td>\n",
       "    </tr>\n",
       "    <tr>\n",
       "      <th>263700</th>\n",
       "      <td>9316480</td>\n",
       "      <td>Region 1</td>\n",
       "    </tr>\n",
       "    <tr>\n",
       "      <th>981107</th>\n",
       "      <td>1569048</td>\n",
       "      <td>Region 1</td>\n",
       "    </tr>\n",
       "    <tr>\n",
       "      <th>602359</th>\n",
       "      <td>1318395</td>\n",
       "      <td>Region 1</td>\n",
       "    </tr>\n",
       "    <tr>\n",
       "      <th>552026</th>\n",
       "      <td>4665803</td>\n",
       "      <td>Region 1</td>\n",
       "    </tr>\n",
       "    <tr>\n",
       "      <th>1028799</th>\n",
       "      <td>8910694</td>\n",
       "      <td>Region 1</td>\n",
       "    </tr>\n",
       "    <tr>\n",
       "      <th>1339921</th>\n",
       "      <td>6684499</td>\n",
       "      <td>Region 1</td>\n",
       "    </tr>\n",
       "    <tr>\n",
       "      <th>1252514</th>\n",
       "      <td>8389105</td>\n",
       "      <td>Region 1</td>\n",
       "    </tr>\n",
       "    <tr>\n",
       "      <th>117559</th>\n",
       "      <td>4481630</td>\n",
       "      <td>Region 5</td>\n",
       "    </tr>\n",
       "    <tr>\n",
       "      <th>791316</th>\n",
       "      <td>1915542</td>\n",
       "      <td>Region 5</td>\n",
       "    </tr>\n",
       "  </tbody>\n",
       "</table>\n",
       "</div>"
      ],
      "text/plain": [
       "         account_number    region\n",
       "642901          2843478  Region 3\n",
       "263700          9316480  Region 1\n",
       "981107          1569048  Region 1\n",
       "602359          1318395  Region 1\n",
       "552026          4665803  Region 1\n",
       "1028799         8910694  Region 1\n",
       "1339921         6684499  Region 1\n",
       "1252514         8389105  Region 1\n",
       "117559          4481630  Region 5\n",
       "791316          1915542  Region 5"
      ]
     },
     "execution_count": 547,
     "metadata": {},
     "output_type": "execute_result"
    }
   ],
   "source": [
    "# 2. Display a sample of dataframe\n",
    "accounts_df.sample(10)"
   ]
  },
  {
   "cell_type": "code",
   "execution_count": 548,
   "metadata": {},
   "outputs": [
    {
     "data": {
      "text/plain": [
       "(1400000, 2)"
      ]
     },
     "execution_count": 548,
     "metadata": {},
     "output_type": "execute_result"
    }
   ],
   "source": [
    "# 3. Show initial dataframe shape\n",
    "accounts_df.shape"
   ]
  },
  {
   "cell_type": "code",
   "execution_count": 549,
   "metadata": {},
   "outputs": [
    {
     "data": {
      "text/plain": [
       "account_number     int64\n",
       "region            object\n",
       "dtype: object"
      ]
     },
     "execution_count": 549,
     "metadata": {},
     "output_type": "execute_result"
    }
   ],
   "source": [
    "# 4. Show data types of each column\n",
    "accounts_df.dtypes"
   ]
  },
  {
   "cell_type": "code",
   "execution_count": 550,
   "metadata": {},
   "outputs": [
    {
     "data": {
      "text/html": [
       "<div>\n",
       "<style scoped>\n",
       "    .dataframe tbody tr th:only-of-type {\n",
       "        vertical-align: middle;\n",
       "    }\n",
       "\n",
       "    .dataframe tbody tr th {\n",
       "        vertical-align: top;\n",
       "    }\n",
       "\n",
       "    .dataframe thead th {\n",
       "        text-align: right;\n",
       "    }\n",
       "</style>\n",
       "<table border=\"1\" class=\"dataframe\">\n",
       "  <thead>\n",
       "    <tr style=\"text-align: right;\">\n",
       "      <th></th>\n",
       "      <th>account_number</th>\n",
       "      <th>region</th>\n",
       "    </tr>\n",
       "  </thead>\n",
       "  <tbody>\n",
       "    <tr>\n",
       "      <th>count</th>\n",
       "      <td>1.400000e+06</td>\n",
       "      <td>1400000</td>\n",
       "    </tr>\n",
       "    <tr>\n",
       "      <th>unique</th>\n",
       "      <td>NaN</td>\n",
       "      <td>6</td>\n",
       "    </tr>\n",
       "    <tr>\n",
       "      <th>top</th>\n",
       "      <td>NaN</td>\n",
       "      <td>Region 1</td>\n",
       "    </tr>\n",
       "    <tr>\n",
       "      <th>freq</th>\n",
       "      <td>NaN</td>\n",
       "      <td>419973</td>\n",
       "    </tr>\n",
       "    <tr>\n",
       "      <th>mean</th>\n",
       "      <td>5.498808e+06</td>\n",
       "      <td>NaN</td>\n",
       "    </tr>\n",
       "    <tr>\n",
       "      <th>std</th>\n",
       "      <td>2.597318e+06</td>\n",
       "      <td>NaN</td>\n",
       "    </tr>\n",
       "    <tr>\n",
       "      <th>min</th>\n",
       "      <td>1.000015e+06</td>\n",
       "      <td>NaN</td>\n",
       "    </tr>\n",
       "    <tr>\n",
       "      <th>25%</th>\n",
       "      <td>3.249971e+06</td>\n",
       "      <td>NaN</td>\n",
       "    </tr>\n",
       "    <tr>\n",
       "      <th>50%</th>\n",
       "      <td>5.501813e+06</td>\n",
       "      <td>NaN</td>\n",
       "    </tr>\n",
       "    <tr>\n",
       "      <th>75%</th>\n",
       "      <td>7.746915e+06</td>\n",
       "      <td>NaN</td>\n",
       "    </tr>\n",
       "    <tr>\n",
       "      <th>max</th>\n",
       "      <td>9.999997e+06</td>\n",
       "      <td>NaN</td>\n",
       "    </tr>\n",
       "  </tbody>\n",
       "</table>\n",
       "</div>"
      ],
      "text/plain": [
       "        account_number    region\n",
       "count     1.400000e+06   1400000\n",
       "unique             NaN         6\n",
       "top                NaN  Region 1\n",
       "freq               NaN    419973\n",
       "mean      5.498808e+06       NaN\n",
       "std       2.597318e+06       NaN\n",
       "min       1.000015e+06       NaN\n",
       "25%       3.249971e+06       NaN\n",
       "50%       5.501813e+06       NaN\n",
       "75%       7.746915e+06       NaN\n",
       "max       9.999997e+06       NaN"
      ]
     },
     "execution_count": 550,
     "metadata": {},
     "output_type": "execute_result"
    }
   ],
   "source": [
    "# 5. Desribe Account dataframe\n",
    "accounts_df.describe(include=\"all\")"
   ]
  },
  {
   "cell_type": "code",
   "execution_count": 551,
   "metadata": {},
   "outputs": [
    {
     "name": "stdout",
     "output_type": "stream",
     "text": [
      "<class 'pandas.core.frame.DataFrame'>\n",
      "RangeIndex: 1400000 entries, 0 to 1399999\n",
      "Data columns (total 2 columns):\n",
      " #   Column          Non-Null Count    Dtype \n",
      "---  ------          --------------    ----- \n",
      " 0   account_number  1400000 non-null  int64 \n",
      " 1   region          1400000 non-null  object\n",
      "dtypes: int64(1), object(1)\n",
      "memory usage: 21.4+ MB\n"
     ]
    }
   ],
   "source": [
    "# 6. Show Account dataframe information\n",
    "accounts_df.info()"
   ]
  },
  {
   "cell_type": "code",
   "execution_count": 552,
   "metadata": {},
   "outputs": [
    {
     "data": {
      "text/plain": [
       "account_number    0\n",
       "region            0\n",
       "dtype: int64"
      ]
     },
     "execution_count": 552,
     "metadata": {},
     "output_type": "execute_result"
    }
   ],
   "source": [
    "# 7. Check if dataframe contains null values\n",
    "accounts_df.isnull().sum()"
   ]
  },
  {
   "cell_type": "code",
   "execution_count": 553,
   "metadata": {},
   "outputs": [
    {
     "data": {
      "text/plain": [
       "22077"
      ]
     },
     "execution_count": 553,
     "metadata": {},
     "output_type": "execute_result"
    }
   ],
   "source": [
    "# 8.1. Check if dataframe contains duplicate values\n",
    "accounts_df.duplicated().sum()"
   ]
  },
  {
   "cell_type": "code",
   "execution_count": 554,
   "metadata": {},
   "outputs": [],
   "source": [
    "# 8.2. Delete duplicate values\n",
    "accounts_df.drop_duplicates(keep=False, inplace=True)"
   ]
  },
  {
   "cell_type": "code",
   "execution_count": 555,
   "metadata": {},
   "outputs": [
    {
     "data": {
      "text/plain": [
       "78640"
      ]
     },
     "execution_count": 555,
     "metadata": {},
     "output_type": "execute_result"
    }
   ],
   "source": [
    "# 8.3. Check if account contains duplicates\n",
    "accounts_df.duplicated(\"account_number\").sum()"
   ]
  },
  {
   "cell_type": "code",
   "execution_count": 556,
   "metadata": {},
   "outputs": [],
   "source": [
    "# 8.4. Delete duplicate accounts\n",
    "accounts_df.drop_duplicates(subset=[\"account_number\"], keep=False, inplace=True)"
   ]
  },
  {
   "cell_type": "code",
   "execution_count": 557,
   "metadata": {},
   "outputs": [
    {
     "data": {
      "text/plain": [
       "(1201192, 2)"
      ]
     },
     "execution_count": 557,
     "metadata": {},
     "output_type": "execute_result"
    }
   ],
   "source": [
    "# 9. Show final dataframe shape\n",
    "accounts_df.shape"
   ]
  },
  {
   "cell_type": "markdown",
   "metadata": {},
   "source": [
    "#### B. Tickets dataframe"
   ]
  },
  {
   "cell_type": "code",
   "execution_count": 558,
   "metadata": {},
   "outputs": [],
   "source": [
    "# 1. Load Tickets dataset\n",
    "tickets_df = pd.read_csv(\"tickets_v2.csv\", delimiter=\",\", header=0)"
   ]
  },
  {
   "cell_type": "code",
   "execution_count": 559,
   "metadata": {},
   "outputs": [
    {
     "data": {
      "text/html": [
       "<div>\n",
       "<style scoped>\n",
       "    .dataframe tbody tr th:only-of-type {\n",
       "        vertical-align: middle;\n",
       "    }\n",
       "\n",
       "    .dataframe tbody tr th {\n",
       "        vertical-align: top;\n",
       "    }\n",
       "\n",
       "    .dataframe thead th {\n",
       "        text-align: right;\n",
       "    }\n",
       "</style>\n",
       "<table border=\"1\" class=\"dataframe\">\n",
       "  <thead>\n",
       "    <tr style=\"text-align: right;\">\n",
       "      <th></th>\n",
       "      <th>tag</th>\n",
       "      <th>account_number</th>\n",
       "    </tr>\n",
       "  </thead>\n",
       "  <tbody>\n",
       "    <tr>\n",
       "      <th>466606</th>\n",
       "      <td>2020-08-12</td>\n",
       "      <td>8286150</td>\n",
       "    </tr>\n",
       "    <tr>\n",
       "      <th>197861</th>\n",
       "      <td>2019-10-05</td>\n",
       "      <td>9307328</td>\n",
       "    </tr>\n",
       "    <tr>\n",
       "      <th>757103</th>\n",
       "      <td>2021-06-02</td>\n",
       "      <td>5742980</td>\n",
       "    </tr>\n",
       "    <tr>\n",
       "      <th>809143</th>\n",
       "      <td>2021-07-22</td>\n",
       "      <td>5787843</td>\n",
       "    </tr>\n",
       "    <tr>\n",
       "      <th>406317</th>\n",
       "      <td>2020-06-04</td>\n",
       "      <td>7149276</td>\n",
       "    </tr>\n",
       "    <tr>\n",
       "      <th>68791</th>\n",
       "      <td>2019-04-09</td>\n",
       "      <td>4191411</td>\n",
       "    </tr>\n",
       "    <tr>\n",
       "      <th>496325</th>\n",
       "      <td>2020-09-11</td>\n",
       "      <td>4441026</td>\n",
       "    </tr>\n",
       "    <tr>\n",
       "      <th>328745</th>\n",
       "      <td>2020-03-03</td>\n",
       "      <td>6704413</td>\n",
       "    </tr>\n",
       "    <tr>\n",
       "      <th>582988</th>\n",
       "      <td>2020-12-10</td>\n",
       "      <td>1410997</td>\n",
       "    </tr>\n",
       "    <tr>\n",
       "      <th>739705</th>\n",
       "      <td>2021-05-15</td>\n",
       "      <td>6136724</td>\n",
       "    </tr>\n",
       "  </tbody>\n",
       "</table>\n",
       "</div>"
      ],
      "text/plain": [
       "               tag  account_number\n",
       "466606  2020-08-12         8286150\n",
       "197861  2019-10-05         9307328\n",
       "757103  2021-06-02         5742980\n",
       "809143  2021-07-22         5787843\n",
       "406317  2020-06-04         7149276\n",
       "68791   2019-04-09         4191411\n",
       "496325  2020-09-11         4441026\n",
       "328745  2020-03-03         6704413\n",
       "582988  2020-12-10         1410997\n",
       "739705  2021-05-15         6136724"
      ]
     },
     "execution_count": 559,
     "metadata": {},
     "output_type": "execute_result"
    }
   ],
   "source": [
    "# 2. Display a sample of dataframe\n",
    "tickets_df.sample(10)"
   ]
  },
  {
   "cell_type": "code",
   "execution_count": 560,
   "metadata": {},
   "outputs": [
    {
     "data": {
      "text/plain": [
       "(1025900, 2)"
      ]
     },
     "execution_count": 560,
     "metadata": {},
     "output_type": "execute_result"
    }
   ],
   "source": [
    "# 3. Show initial dataframe shape\n",
    "tickets_df.shape"
   ]
  },
  {
   "cell_type": "code",
   "execution_count": 561,
   "metadata": {},
   "outputs": [
    {
     "data": {
      "text/plain": [
       "tag               object\n",
       "account_number     int64\n",
       "dtype: object"
      ]
     },
     "execution_count": 561,
     "metadata": {},
     "output_type": "execute_result"
    }
   ],
   "source": [
    "# 4. Show data types of each column\n",
    "tickets_df.dtypes"
   ]
  },
  {
   "cell_type": "code",
   "execution_count": 562,
   "metadata": {},
   "outputs": [],
   "source": [
    "# 4.1. Change data type for tag column\n",
    "tickets_df[\"tag\"] = pd.to_datetime(tickets_df[\"tag\"])"
   ]
  },
  {
   "cell_type": "code",
   "execution_count": 563,
   "metadata": {},
   "outputs": [
    {
     "data": {
      "text/html": [
       "<div>\n",
       "<style scoped>\n",
       "    .dataframe tbody tr th:only-of-type {\n",
       "        vertical-align: middle;\n",
       "    }\n",
       "\n",
       "    .dataframe tbody tr th {\n",
       "        vertical-align: top;\n",
       "    }\n",
       "\n",
       "    .dataframe thead th {\n",
       "        text-align: right;\n",
       "    }\n",
       "</style>\n",
       "<table border=\"1\" class=\"dataframe\">\n",
       "  <thead>\n",
       "    <tr style=\"text-align: right;\">\n",
       "      <th></th>\n",
       "      <th>tag</th>\n",
       "      <th>account_number</th>\n",
       "    </tr>\n",
       "  </thead>\n",
       "  <tbody>\n",
       "    <tr>\n",
       "      <th>count</th>\n",
       "      <td>1025900</td>\n",
       "      <td>1.025900e+06</td>\n",
       "    </tr>\n",
       "    <tr>\n",
       "      <th>mean</th>\n",
       "      <td>2020-09-02 08:16:14.607270912</td>\n",
       "      <td>5.497297e+06</td>\n",
       "    </tr>\n",
       "    <tr>\n",
       "      <th>min</th>\n",
       "      <td>2019-01-01 00:00:00</td>\n",
       "      <td>1.000015e+06</td>\n",
       "    </tr>\n",
       "    <tr>\n",
       "      <th>25%</th>\n",
       "      <td>2019-12-13 00:00:00</td>\n",
       "      <td>3.245053e+06</td>\n",
       "    </tr>\n",
       "    <tr>\n",
       "      <th>50%</th>\n",
       "      <td>2020-09-30 00:00:00</td>\n",
       "      <td>5.501682e+06</td>\n",
       "    </tr>\n",
       "    <tr>\n",
       "      <th>75%</th>\n",
       "      <td>2021-06-14 00:00:00</td>\n",
       "      <td>7.750083e+06</td>\n",
       "    </tr>\n",
       "    <tr>\n",
       "      <th>max</th>\n",
       "      <td>2022-01-01 00:00:00</td>\n",
       "      <td>9.999997e+06</td>\n",
       "    </tr>\n",
       "    <tr>\n",
       "      <th>std</th>\n",
       "      <td>NaN</td>\n",
       "      <td>2.598229e+06</td>\n",
       "    </tr>\n",
       "  </tbody>\n",
       "</table>\n",
       "</div>"
      ],
      "text/plain": [
       "                                 tag  account_number\n",
       "count                        1025900    1.025900e+06\n",
       "mean   2020-09-02 08:16:14.607270912    5.497297e+06\n",
       "min              2019-01-01 00:00:00    1.000015e+06\n",
       "25%              2019-12-13 00:00:00    3.245053e+06\n",
       "50%              2020-09-30 00:00:00    5.501682e+06\n",
       "75%              2021-06-14 00:00:00    7.750083e+06\n",
       "max              2022-01-01 00:00:00    9.999997e+06\n",
       "std                              NaN    2.598229e+06"
      ]
     },
     "execution_count": 563,
     "metadata": {},
     "output_type": "execute_result"
    }
   ],
   "source": [
    "# 5. Desribe Tickets dataframe\n",
    "tickets_df.describe(include=\"all\")"
   ]
  },
  {
   "cell_type": "code",
   "execution_count": 564,
   "metadata": {},
   "outputs": [
    {
     "name": "stdout",
     "output_type": "stream",
     "text": [
      "<class 'pandas.core.frame.DataFrame'>\n",
      "RangeIndex: 1025900 entries, 0 to 1025899\n",
      "Data columns (total 2 columns):\n",
      " #   Column          Non-Null Count    Dtype         \n",
      "---  ------          --------------    -----         \n",
      " 0   tag             1025900 non-null  datetime64[ns]\n",
      " 1   account_number  1025900 non-null  int64         \n",
      "dtypes: datetime64[ns](1), int64(1)\n",
      "memory usage: 15.7 MB\n"
     ]
    }
   ],
   "source": [
    "# 6. Show Tickets dataframe information\n",
    "tickets_df.info()"
   ]
  },
  {
   "cell_type": "code",
   "execution_count": 565,
   "metadata": {},
   "outputs": [
    {
     "data": {
      "text/plain": [
       "tag               0\n",
       "account_number    0\n",
       "dtype: int64"
      ]
     },
     "execution_count": 565,
     "metadata": {},
     "output_type": "execute_result"
    }
   ],
   "source": [
    "# 7. Check if dataframe contains null values\n",
    "tickets_df.isnull().sum()"
   ]
  },
  {
   "cell_type": "code",
   "execution_count": 566,
   "metadata": {},
   "outputs": [
    {
     "data": {
      "text/plain": [
       "458"
      ]
     },
     "execution_count": 566,
     "metadata": {},
     "output_type": "execute_result"
    }
   ],
   "source": [
    "# 8.1. Check if dataframe contains duplicate values\n",
    "tickets_df.duplicated().sum()"
   ]
  },
  {
   "cell_type": "code",
   "execution_count": 567,
   "metadata": {},
   "outputs": [],
   "source": [
    "# 8.2. Delete duplicate values\n",
    "tickets_df.drop_duplicates(keep=False, inplace=True)"
   ]
  },
  {
   "cell_type": "code",
   "execution_count": 568,
   "metadata": {},
   "outputs": [
    {
     "data": {
      "text/plain": [
       "(1024984, 2)"
      ]
     },
     "execution_count": 568,
     "metadata": {},
     "output_type": "execute_result"
    }
   ],
   "source": [
    "# 9. Show final dataframe shape\n",
    "tickets_df.shape"
   ]
  },
  {
   "cell_type": "markdown",
   "metadata": {},
   "source": [
    "#### C. Common dataframe"
   ]
  },
  {
   "cell_type": "code",
   "execution_count": 569,
   "metadata": {},
   "outputs": [],
   "source": [
    "# 1. Join dataframes\n",
    "df = pd.merge(accounts_df, tickets_df, how=\"left\", on=\"account_number\")"
   ]
  },
  {
   "cell_type": "code",
   "execution_count": 570,
   "metadata": {},
   "outputs": [
    {
     "data": {
      "text/html": [
       "<div>\n",
       "<style scoped>\n",
       "    .dataframe tbody tr th:only-of-type {\n",
       "        vertical-align: middle;\n",
       "    }\n",
       "\n",
       "    .dataframe tbody tr th {\n",
       "        vertical-align: top;\n",
       "    }\n",
       "\n",
       "    .dataframe thead th {\n",
       "        text-align: right;\n",
       "    }\n",
       "</style>\n",
       "<table border=\"1\" class=\"dataframe\">\n",
       "  <thead>\n",
       "    <tr style=\"text-align: right;\">\n",
       "      <th></th>\n",
       "      <th>account_number</th>\n",
       "      <th>region</th>\n",
       "      <th>tag</th>\n",
       "    </tr>\n",
       "  </thead>\n",
       "  <tbody>\n",
       "    <tr>\n",
       "      <th>1057273</th>\n",
       "      <td>2543817</td>\n",
       "      <td>Region 3</td>\n",
       "      <td>NaT</td>\n",
       "    </tr>\n",
       "    <tr>\n",
       "      <th>386512</th>\n",
       "      <td>9517360</td>\n",
       "      <td>Region 2</td>\n",
       "      <td>2021-03-20</td>\n",
       "    </tr>\n",
       "    <tr>\n",
       "      <th>1033218</th>\n",
       "      <td>8521667</td>\n",
       "      <td>Region 1</td>\n",
       "      <td>2020-07-21</td>\n",
       "    </tr>\n",
       "    <tr>\n",
       "      <th>837036</th>\n",
       "      <td>6577784</td>\n",
       "      <td>Region 6</td>\n",
       "      <td>2021-01-12</td>\n",
       "    </tr>\n",
       "    <tr>\n",
       "      <th>1368211</th>\n",
       "      <td>4360241</td>\n",
       "      <td>Region 5</td>\n",
       "      <td>NaT</td>\n",
       "    </tr>\n",
       "    <tr>\n",
       "      <th>579640</th>\n",
       "      <td>8317393</td>\n",
       "      <td>Region 1</td>\n",
       "      <td>NaT</td>\n",
       "    </tr>\n",
       "    <tr>\n",
       "      <th>1132134</th>\n",
       "      <td>4890144</td>\n",
       "      <td>Region 5</td>\n",
       "      <td>2020-05-13</td>\n",
       "    </tr>\n",
       "    <tr>\n",
       "      <th>1162727</th>\n",
       "      <td>9142909</td>\n",
       "      <td>Region 1</td>\n",
       "      <td>2020-01-01</td>\n",
       "    </tr>\n",
       "    <tr>\n",
       "      <th>820971</th>\n",
       "      <td>7635385</td>\n",
       "      <td>Region 5</td>\n",
       "      <td>2021-09-08</td>\n",
       "    </tr>\n",
       "    <tr>\n",
       "      <th>556084</th>\n",
       "      <td>5929838</td>\n",
       "      <td>Region 4</td>\n",
       "      <td>2019-09-26</td>\n",
       "    </tr>\n",
       "  </tbody>\n",
       "</table>\n",
       "</div>"
      ],
      "text/plain": [
       "         account_number    region        tag\n",
       "1057273         2543817  Region 3        NaT\n",
       "386512          9517360  Region 2 2021-03-20\n",
       "1033218         8521667  Region 1 2020-07-21\n",
       "837036          6577784  Region 6 2021-01-12\n",
       "1368211         4360241  Region 5        NaT\n",
       "579640          8317393  Region 1        NaT\n",
       "1132134         4890144  Region 5 2020-05-13\n",
       "1162727         9142909  Region 1 2020-01-01\n",
       "820971          7635385  Region 5 2021-09-08\n",
       "556084          5929838  Region 4 2019-09-26"
      ]
     },
     "execution_count": 570,
     "metadata": {},
     "output_type": "execute_result"
    }
   ],
   "source": [
    "# 2. Display a sample of dataframe\n",
    "df.sample(10)"
   ]
  },
  {
   "cell_type": "code",
   "execution_count": 571,
   "metadata": {},
   "outputs": [
    {
     "data": {
      "text/plain": [
       "(1456203, 3)"
      ]
     },
     "execution_count": 571,
     "metadata": {},
     "output_type": "execute_result"
    }
   ],
   "source": [
    "# 3. Show dataframe shape\n",
    "df.shape"
   ]
  },
  {
   "cell_type": "code",
   "execution_count": 572,
   "metadata": {},
   "outputs": [
    {
     "data": {
      "text/plain": [
       "account_number             int64\n",
       "region                    object\n",
       "tag               datetime64[ns]\n",
       "dtype: object"
      ]
     },
     "execution_count": 572,
     "metadata": {},
     "output_type": "execute_result"
    }
   ],
   "source": [
    "# 4. Show data types of each column\n",
    "df.dtypes"
   ]
  },
  {
   "cell_type": "code",
   "execution_count": 573,
   "metadata": {},
   "outputs": [
    {
     "data": {
      "text/html": [
       "<div>\n",
       "<style scoped>\n",
       "    .dataframe tbody tr th:only-of-type {\n",
       "        vertical-align: middle;\n",
       "    }\n",
       "\n",
       "    .dataframe tbody tr th {\n",
       "        vertical-align: top;\n",
       "    }\n",
       "\n",
       "    .dataframe thead th {\n",
       "        text-align: right;\n",
       "    }\n",
       "</style>\n",
       "<table border=\"1\" class=\"dataframe\">\n",
       "  <thead>\n",
       "    <tr style=\"text-align: right;\">\n",
       "      <th></th>\n",
       "      <th>account_number</th>\n",
       "      <th>region</th>\n",
       "      <th>tag</th>\n",
       "    </tr>\n",
       "  </thead>\n",
       "  <tbody>\n",
       "    <tr>\n",
       "      <th>count</th>\n",
       "      <td>1.456203e+06</td>\n",
       "      <td>1456203</td>\n",
       "      <td>876034</td>\n",
       "    </tr>\n",
       "    <tr>\n",
       "      <th>unique</th>\n",
       "      <td>NaN</td>\n",
       "      <td>6</td>\n",
       "      <td>NaN</td>\n",
       "    </tr>\n",
       "    <tr>\n",
       "      <th>top</th>\n",
       "      <td>NaN</td>\n",
       "      <td>Region 1</td>\n",
       "      <td>NaN</td>\n",
       "    </tr>\n",
       "    <tr>\n",
       "      <th>freq</th>\n",
       "      <td>NaN</td>\n",
       "      <td>432165</td>\n",
       "      <td>NaN</td>\n",
       "    </tr>\n",
       "    <tr>\n",
       "      <th>mean</th>\n",
       "      <td>5.498755e+06</td>\n",
       "      <td>NaN</td>\n",
       "      <td>2020-09-02 15:10:17.671916032</td>\n",
       "    </tr>\n",
       "    <tr>\n",
       "      <th>min</th>\n",
       "      <td>1.000015e+06</td>\n",
       "      <td>NaN</td>\n",
       "      <td>2019-01-01 00:00:00</td>\n",
       "    </tr>\n",
       "    <tr>\n",
       "      <th>25%</th>\n",
       "      <td>3.250259e+06</td>\n",
       "      <td>NaN</td>\n",
       "      <td>2019-12-13 00:00:00</td>\n",
       "    </tr>\n",
       "    <tr>\n",
       "      <th>50%</th>\n",
       "      <td>5.502973e+06</td>\n",
       "      <td>NaN</td>\n",
       "      <td>2020-09-30 00:00:00</td>\n",
       "    </tr>\n",
       "    <tr>\n",
       "      <th>75%</th>\n",
       "      <td>7.746496e+06</td>\n",
       "      <td>NaN</td>\n",
       "      <td>2021-06-15 00:00:00</td>\n",
       "    </tr>\n",
       "    <tr>\n",
       "      <th>max</th>\n",
       "      <td>9.999997e+06</td>\n",
       "      <td>NaN</td>\n",
       "      <td>2022-01-01 00:00:00</td>\n",
       "    </tr>\n",
       "    <tr>\n",
       "      <th>std</th>\n",
       "      <td>2.596633e+06</td>\n",
       "      <td>NaN</td>\n",
       "      <td>NaN</td>\n",
       "    </tr>\n",
       "  </tbody>\n",
       "</table>\n",
       "</div>"
      ],
      "text/plain": [
       "        account_number    region                            tag\n",
       "count     1.456203e+06   1456203                         876034\n",
       "unique             NaN         6                            NaN\n",
       "top                NaN  Region 1                            NaN\n",
       "freq               NaN    432165                            NaN\n",
       "mean      5.498755e+06       NaN  2020-09-02 15:10:17.671916032\n",
       "min       1.000015e+06       NaN            2019-01-01 00:00:00\n",
       "25%       3.250259e+06       NaN            2019-12-13 00:00:00\n",
       "50%       5.502973e+06       NaN            2020-09-30 00:00:00\n",
       "75%       7.746496e+06       NaN            2021-06-15 00:00:00\n",
       "max       9.999997e+06       NaN            2022-01-01 00:00:00\n",
       "std       2.596633e+06       NaN                            NaN"
      ]
     },
     "execution_count": 573,
     "metadata": {},
     "output_type": "execute_result"
    }
   ],
   "source": [
    "# 5. Desribe dataframe\n",
    "df.describe(include=\"all\")"
   ]
  },
  {
   "cell_type": "code",
   "execution_count": 574,
   "metadata": {},
   "outputs": [
    {
     "name": "stdout",
     "output_type": "stream",
     "text": [
      "<class 'pandas.core.frame.DataFrame'>\n",
      "RangeIndex: 1456203 entries, 0 to 1456202\n",
      "Data columns (total 3 columns):\n",
      " #   Column          Non-Null Count    Dtype         \n",
      "---  ------          --------------    -----         \n",
      " 0   account_number  1456203 non-null  int64         \n",
      " 1   region          1456203 non-null  object        \n",
      " 2   tag             876034 non-null   datetime64[ns]\n",
      "dtypes: datetime64[ns](1), int64(1), object(1)\n",
      "memory usage: 33.3+ MB\n"
     ]
    }
   ],
   "source": [
    "# 6. Show dataframe information\n",
    "df.info()"
   ]
  },
  {
   "cell_type": "code",
   "execution_count": 575,
   "metadata": {},
   "outputs": [
    {
     "data": {
      "text/plain": [
       "0"
      ]
     },
     "execution_count": 575,
     "metadata": {},
     "output_type": "execute_result"
    }
   ],
   "source": [
    "# 8. Check if dataframe contains duplicate values\n",
    "tickets_df.duplicated().sum()"
   ]
  },
  {
   "cell_type": "markdown",
   "metadata": {},
   "source": [
    "#### 2.2. Exploratory Data Analysis\n",
    "\n",
    "1. Number of accounts per region\n",
    "2. Plot number of accounts per region\n",
    "3. Number of tickets per region\n",
    "4. Plot number of tickets per region\n",
    "5. Number of yearly tickets\n",
    "6. Plot number of yearly tickets\n",
    "7. Number of yearly tickets per region\n",
    "8. Plot number of yearly tickets per region"
   ]
  },
  {
   "cell_type": "code",
   "execution_count": 576,
   "metadata": {},
   "outputs": [
    {
     "data": {
      "text/plain": [
       "region\n",
       "Region 1    432165\n",
       "Region 3    310312\n",
       "Region 5    287586\n",
       "Region 2    191581\n",
       "Region 4    144105\n",
       "Region 6     90454\n",
       "Name: count, dtype: int64"
      ]
     },
     "execution_count": 576,
     "metadata": {},
     "output_type": "execute_result"
    }
   ],
   "source": [
    "# 1. Extract number of accounts per region\n",
    "df[\"region\"].value_counts()"
   ]
  },
  {
   "cell_type": "code",
   "execution_count": 577,
   "metadata": {},
   "outputs": [
    {
     "data": {
      "image/png": "[encoded data removed]",
      "text/plain": [
       "<Figure size 640x480 with 1 Axes>"
      ]
     },
     "metadata": {},
     "output_type": "display_data"
    }
   ],
   "source": [
    "#  2. Visualize number of accounts per region\n",
    "df[\"region\"].value_counts().plot(kind=\"bar\")\n",
    "plt.title(\"Number of accounts per region\")\n",
    "plt.xlabel(\"Region\")\n",
    "plt.ylabel(\"Accounts\")\n",
    "plt.show()"
   ]
  },
  {
   "cell_type": "code",
   "execution_count": 578,
   "metadata": {},
   "outputs": [
    {
     "data": {
      "text/plain": [
       "region\n",
       "Region 1    253847\n",
       "Region 3    198130\n",
       "Region 5    169467\n",
       "Region 2    112984\n",
       "Region 4     84865\n",
       "Region 6     56741\n",
       "Name: tag, dtype: int64"
      ]
     },
     "execution_count": 578,
     "metadata": {},
     "output_type": "execute_result"
    }
   ],
   "source": [
    "# 3. Extract number of tickets per region\n",
    "df.groupby(\"region\")[\"tag\"].count().sort_values(ascending=False)"
   ]
  },
  {
   "cell_type": "code",
   "execution_count": 579,
   "metadata": {},
   "outputs": [
    {
     "data": {
      "image/png": "[encoded data removed]",
      "text/plain": [
       "<Figure size 640x480 with 1 Axes>"
      ]
     },
     "metadata": {},
     "output_type": "display_data"
    }
   ],
   "source": [
    "#  4. Visualize number of tickets per region\n",
    "df.groupby(\"region\")[\"tag\"].count().sort_values(ascending=False).plot(kind=\"bar\")\n",
    "plt.title(\"Number of tickets per region\")\n",
    "plt.xlabel(\"Region\")\n",
    "plt.ylabel(\"Tickets\")\n",
    "plt.show()"
   ]
  },
  {
   "cell_type": "code",
   "execution_count": 580,
   "metadata": {},
   "outputs": [
    {
     "data": {
      "image/png": "[encoded data removed]",
      "text/plain": [
       "<Figure size 640x480 with 1 Axes>"
      ]
     },
     "metadata": {},
     "output_type": "display_data"
    }
   ],
   "source": [
    "# 5. Visualize number of account and number of tickets\n",
    "corr_df = pd.DataFrame(columns=[\"accounts\", \"tickets\"])\n",
    "corr_df[\"accounts\"] = df[\"region\"].value_counts().sort_values(ascending=False)\n",
    "corr_df[\"tickets\"] = df.groupby(\"region\")[\"tag\"].count().sort_values(ascending=False)\n",
    "corr_df = corr_df.reset_index()\n",
    "\n",
    "ax = corr_df.plot(x='accounts', y='tickets', kind='scatter')\n",
    "corr_df[['accounts', 'tickets', 'region']].apply(lambda x: ax.text(*x), axis=1)\n",
    "plt.title(\"Correlation between number of account and tickets\")\n",
    "plt.show()"
   ]
  },
  {
   "cell_type": "code",
   "execution_count": 581,
   "metadata": {},
   "outputs": [
    {
     "data": {
      "text/plain": [
       "year\n",
       "2021    361406\n",
       "2020    282624\n",
       "2019    231699\n",
       "2022       305\n",
       "Name: count, dtype: int64"
      ]
     },
     "execution_count": 581,
     "metadata": {},
     "output_type": "execute_result"
    }
   ],
   "source": [
    "# 6. Number of yearly tickets\n",
    "df[\"year\"] = df[\"tag\"].dt.year\n",
    "df[\"year\"] = df[\"year\"].fillna(0.0).astype(int)\n",
    "\n",
    "df = df[df.year != 0]\n",
    "\n",
    "df[\"year\"].value_counts()"
   ]
  },
  {
   "cell_type": "code",
   "execution_count": 582,
   "metadata": {},
   "outputs": [
    {
     "data": {
      "image/png": "[encoded data removed]",
      "text/plain": [
       "<Figure size 640x480 with 1 Axes>"
      ]
     },
     "metadata": {},
     "output_type": "display_data"
    }
   ],
   "source": [
    "# 7. Visualize number of yearly tickets\n",
    "df.groupby(\"year\")[\"tag\"].count().plot(kind=\"bar\")\n",
    "plt.title(\"Number of tickets per year\")\n",
    "plt.xlabel(\"Year\")\n",
    "plt.ylabel(\"Tickets\")\n",
    "plt.show()"
   ]
  },
  {
   "cell_type": "code",
   "execution_count": 583,
   "metadata": {},
   "outputs": [
    {
     "data": {
      "text/plain": [
       "year  region  \n",
       "2019  Region 1    69305\n",
       "      Region 2    30752\n",
       "      Region 3    47817\n",
       "      Region 4    23303\n",
       "      Region 5    46438\n",
       "      Region 6    14084\n",
       "2020  Region 1    84573\n",
       "      Region 2    37674\n",
       "      Region 3    58598\n",
       "      Region 4    28141\n",
       "      Region 5    56434\n",
       "      Region 6    17204\n",
       "2021  Region 1    99903\n",
       "      Region 2    44533\n",
       "      Region 3    91583\n",
       "      Region 4    33403\n",
       "      Region 5    66554\n",
       "      Region 6    25430\n",
       "2022  Region 1       66\n",
       "      Region 2       25\n",
       "      Region 3      132\n",
       "      Region 4       18\n",
       "      Region 5       41\n",
       "      Region 6       23\n",
       "Name: tag, dtype: int64"
      ]
     },
     "execution_count": 583,
     "metadata": {},
     "output_type": "execute_result"
    }
   ],
   "source": [
    "# 8. Number of yearly tickets per region\n",
    "df.groupby([\"year\", \"region\"])[\"tag\"].count()"
   ]
  },
  {
   "cell_type": "code",
   "execution_count": 584,
   "metadata": {},
   "outputs": [
    {
     "data": {
      "image/png": "[encoded data removed]",
      "text/plain": [
       "<Figure size 640x480 with 1 Axes>"
      ]
     },
     "metadata": {},
     "output_type": "display_data"
    }
   ],
   "source": [
    "# 9. Visualize number of yearly tickets per region\n",
    "df.groupby([\"year\", \"region\"])[\"tag\"].count().plot.bar()\n",
    "plt.title(\"Number of yearly tickets per region\")\n",
    "plt.xlabel(\"Year & Region\")\n",
    "plt.ylabel(\"Tickets\")\n",
    "plt.show()"
   ]
  },
  {
   "cell_type": "code",
   "execution_count": 585,
   "metadata": {},
   "outputs": [
    {
     "data": {
      "text/html": [
       "<div>\n",
       "<style scoped>\n",
       "    .dataframe tbody tr th:only-of-type {\n",
       "        vertical-align: middle;\n",
       "    }\n",
       "\n",
       "    .dataframe tbody tr th {\n",
       "        vertical-align: top;\n",
       "    }\n",
       "\n",
       "    .dataframe thead th {\n",
       "        text-align: right;\n",
       "    }\n",
       "</style>\n",
       "<table border=\"1\" class=\"dataframe\">\n",
       "  <thead>\n",
       "    <tr style=\"text-align: right;\">\n",
       "      <th></th>\n",
       "      <th></th>\n",
       "      <th>account_number</th>\n",
       "      <th>region</th>\n",
       "      <th>tag</th>\n",
       "    </tr>\n",
       "    <tr>\n",
       "      <th>year</th>\n",
       "      <th>month</th>\n",
       "      <th></th>\n",
       "      <th></th>\n",
       "      <th></th>\n",
       "    </tr>\n",
       "  </thead>\n",
       "  <tbody>\n",
       "    <tr>\n",
       "      <th rowspan=\"12\" valign=\"top\">2019</th>\n",
       "      <th>1</th>\n",
       "      <td>18250</td>\n",
       "      <td>18250</td>\n",
       "      <td>18250</td>\n",
       "    </tr>\n",
       "    <tr>\n",
       "      <th>2</th>\n",
       "      <td>16628</td>\n",
       "      <td>16628</td>\n",
       "      <td>16628</td>\n",
       "    </tr>\n",
       "    <tr>\n",
       "      <th>3</th>\n",
       "      <td>18522</td>\n",
       "      <td>18522</td>\n",
       "      <td>18522</td>\n",
       "    </tr>\n",
       "    <tr>\n",
       "      <th>4</th>\n",
       "      <td>17222</td>\n",
       "      <td>17222</td>\n",
       "      <td>17222</td>\n",
       "    </tr>\n",
       "    <tr>\n",
       "      <th>5</th>\n",
       "      <td>19399</td>\n",
       "      <td>19399</td>\n",
       "      <td>19399</td>\n",
       "    </tr>\n",
       "    <tr>\n",
       "      <th>6</th>\n",
       "      <td>16506</td>\n",
       "      <td>16506</td>\n",
       "      <td>16506</td>\n",
       "    </tr>\n",
       "    <tr>\n",
       "      <th>7</th>\n",
       "      <td>19103</td>\n",
       "      <td>19103</td>\n",
       "      <td>19103</td>\n",
       "    </tr>\n",
       "    <tr>\n",
       "      <th>8</th>\n",
       "      <td>21125</td>\n",
       "      <td>21125</td>\n",
       "      <td>21125</td>\n",
       "    </tr>\n",
       "    <tr>\n",
       "      <th>9</th>\n",
       "      <td>19111</td>\n",
       "      <td>19111</td>\n",
       "      <td>19111</td>\n",
       "    </tr>\n",
       "    <tr>\n",
       "      <th>10</th>\n",
       "      <td>22644</td>\n",
       "      <td>22644</td>\n",
       "      <td>22644</td>\n",
       "    </tr>\n",
       "    <tr>\n",
       "      <th>11</th>\n",
       "      <td>20337</td>\n",
       "      <td>20337</td>\n",
       "      <td>20337</td>\n",
       "    </tr>\n",
       "    <tr>\n",
       "      <th>12</th>\n",
       "      <td>22852</td>\n",
       "      <td>22852</td>\n",
       "      <td>22852</td>\n",
       "    </tr>\n",
       "    <tr>\n",
       "      <th rowspan=\"12\" valign=\"top\">2020</th>\n",
       "      <th>1</th>\n",
       "      <td>24215</td>\n",
       "      <td>24215</td>\n",
       "      <td>24215</td>\n",
       "    </tr>\n",
       "    <tr>\n",
       "      <th>2</th>\n",
       "      <td>23116</td>\n",
       "      <td>23116</td>\n",
       "      <td>23116</td>\n",
       "    </tr>\n",
       "    <tr>\n",
       "      <th>3</th>\n",
       "      <td>24036</td>\n",
       "      <td>24036</td>\n",
       "      <td>24036</td>\n",
       "    </tr>\n",
       "    <tr>\n",
       "      <th>4</th>\n",
       "      <td>20714</td>\n",
       "      <td>20714</td>\n",
       "      <td>20714</td>\n",
       "    </tr>\n",
       "    <tr>\n",
       "      <th>5</th>\n",
       "      <td>20394</td>\n",
       "      <td>20394</td>\n",
       "      <td>20394</td>\n",
       "    </tr>\n",
       "    <tr>\n",
       "      <th>6</th>\n",
       "      <td>21265</td>\n",
       "      <td>21265</td>\n",
       "      <td>21265</td>\n",
       "    </tr>\n",
       "    <tr>\n",
       "      <th>7</th>\n",
       "      <td>24492</td>\n",
       "      <td>24492</td>\n",
       "      <td>24492</td>\n",
       "    </tr>\n",
       "    <tr>\n",
       "      <th>8</th>\n",
       "      <td>24919</td>\n",
       "      <td>24919</td>\n",
       "      <td>24919</td>\n",
       "    </tr>\n",
       "    <tr>\n",
       "      <th>9</th>\n",
       "      <td>23607</td>\n",
       "      <td>23607</td>\n",
       "      <td>23607</td>\n",
       "    </tr>\n",
       "    <tr>\n",
       "      <th>10</th>\n",
       "      <td>25725</td>\n",
       "      <td>25725</td>\n",
       "      <td>25725</td>\n",
       "    </tr>\n",
       "    <tr>\n",
       "      <th>11</th>\n",
       "      <td>24577</td>\n",
       "      <td>24577</td>\n",
       "      <td>24577</td>\n",
       "    </tr>\n",
       "    <tr>\n",
       "      <th>12</th>\n",
       "      <td>25564</td>\n",
       "      <td>25564</td>\n",
       "      <td>25564</td>\n",
       "    </tr>\n",
       "    <tr>\n",
       "      <th rowspan=\"12\" valign=\"top\">2021</th>\n",
       "      <th>1</th>\n",
       "      <td>27974</td>\n",
       "      <td>27974</td>\n",
       "      <td>27974</td>\n",
       "    </tr>\n",
       "    <tr>\n",
       "      <th>2</th>\n",
       "      <td>24765</td>\n",
       "      <td>24765</td>\n",
       "      <td>24765</td>\n",
       "    </tr>\n",
       "    <tr>\n",
       "      <th>3</th>\n",
       "      <td>27809</td>\n",
       "      <td>27809</td>\n",
       "      <td>27809</td>\n",
       "    </tr>\n",
       "    <tr>\n",
       "      <th>4</th>\n",
       "      <td>25044</td>\n",
       "      <td>25044</td>\n",
       "      <td>25044</td>\n",
       "    </tr>\n",
       "    <tr>\n",
       "      <th>5</th>\n",
       "      <td>24279</td>\n",
       "      <td>24279</td>\n",
       "      <td>24279</td>\n",
       "    </tr>\n",
       "    <tr>\n",
       "      <th>6</th>\n",
       "      <td>27913</td>\n",
       "      <td>27913</td>\n",
       "      <td>27913</td>\n",
       "    </tr>\n",
       "    <tr>\n",
       "      <th>7</th>\n",
       "      <td>27200</td>\n",
       "      <td>27200</td>\n",
       "      <td>27200</td>\n",
       "    </tr>\n",
       "    <tr>\n",
       "      <th>8</th>\n",
       "      <td>28882</td>\n",
       "      <td>28882</td>\n",
       "      <td>28882</td>\n",
       "    </tr>\n",
       "    <tr>\n",
       "      <th>9</th>\n",
       "      <td>31298</td>\n",
       "      <td>31298</td>\n",
       "      <td>31298</td>\n",
       "    </tr>\n",
       "    <tr>\n",
       "      <th>10</th>\n",
       "      <td>46335</td>\n",
       "      <td>46335</td>\n",
       "      <td>46335</td>\n",
       "    </tr>\n",
       "    <tr>\n",
       "      <th>11</th>\n",
       "      <td>36437</td>\n",
       "      <td>36437</td>\n",
       "      <td>36437</td>\n",
       "    </tr>\n",
       "    <tr>\n",
       "      <th>12</th>\n",
       "      <td>33470</td>\n",
       "      <td>33470</td>\n",
       "      <td>33470</td>\n",
       "    </tr>\n",
       "    <tr>\n",
       "      <th>2022</th>\n",
       "      <th>1</th>\n",
       "      <td>305</td>\n",
       "      <td>305</td>\n",
       "      <td>305</td>\n",
       "    </tr>\n",
       "  </tbody>\n",
       "</table>\n",
       "</div>"
      ],
      "text/plain": [
       "            account_number  region    tag\n",
       "year month                               \n",
       "2019 1               18250   18250  18250\n",
       "     2               16628   16628  16628\n",
       "     3               18522   18522  18522\n",
       "     4               17222   17222  17222\n",
       "     5               19399   19399  19399\n",
       "     6               16506   16506  16506\n",
       "     7               19103   19103  19103\n",
       "     8               21125   21125  21125\n",
       "     9               19111   19111  19111\n",
       "     10              22644   22644  22644\n",
       "     11              20337   20337  20337\n",
       "     12              22852   22852  22852\n",
       "2020 1               24215   24215  24215\n",
       "     2               23116   23116  23116\n",
       "     3               24036   24036  24036\n",
       "     4               20714   20714  20714\n",
       "     5               20394   20394  20394\n",
       "     6               21265   21265  21265\n",
       "     7               24492   24492  24492\n",
       "     8               24919   24919  24919\n",
       "     9               23607   23607  23607\n",
       "     10              25725   25725  25725\n",
       "     11              24577   24577  24577\n",
       "     12              25564   25564  25564\n",
       "2021 1               27974   27974  27974\n",
       "     2               24765   24765  24765\n",
       "     3               27809   27809  27809\n",
       "     4               25044   25044  25044\n",
       "     5               24279   24279  24279\n",
       "     6               27913   27913  27913\n",
       "     7               27200   27200  27200\n",
       "     8               28882   28882  28882\n",
       "     9               31298   31298  31298\n",
       "     10              46335   46335  46335\n",
       "     11              36437   36437  36437\n",
       "     12              33470   33470  33470\n",
       "2022 1                 305     305    305"
      ]
     },
     "execution_count": 585,
     "metadata": {},
     "output_type": "execute_result"
    }
   ],
   "source": [
    "# 10. Number of monthly tickets\n",
    "df[\"month\"] = df[\"tag\"].dt.month\n",
    "\n",
    "df.groupby(by=[\"year\", \"month\"]).count()\n",
    "\n"
   ]
  },
  {
   "cell_type": "code",
   "execution_count": 586,
   "metadata": {},
   "outputs": [
    {
     "data": {
      "text/plain": [
       "<DatetimeArray>\n",
       "['2022-01-01 00:00:00']\n",
       "Length: 1, dtype: datetime64[ns]"
      ]
     },
     "execution_count": 586,
     "metadata": {},
     "output_type": "execute_result"
    }
   ],
   "source": [
    "# 11.1. Check if data from 2022 are revelant\n",
    "df[\"tag\"].loc[df[\"year\"] >= 2022].unique()"
   ]
  },
  {
   "cell_type": "code",
   "execution_count": 587,
   "metadata": {},
   "outputs": [],
   "source": [
    "# 11.2. Delete records from 2022\n",
    "df = df[df.year != 2022]"
   ]
  },
  {
   "cell_type": "code",
   "execution_count": 588,
   "metadata": {},
   "outputs": [
    {
     "data": {
      "text/plain": [
       "region    year  month\n",
       "Region 1  2019  1        5423\n",
       "                2        4981\n",
       "                3        5551\n",
       "                4        5223\n",
       "                5        5860\n",
       "                         ... \n",
       "Region 6  2021  8        1745\n",
       "                9        1863\n",
       "                10       6888\n",
       "                11       1934\n",
       "                12       2021\n",
       "Name: tag, Length: 216, dtype: int64"
      ]
     },
     "execution_count": 588,
     "metadata": {},
     "output_type": "execute_result"
    }
   ],
   "source": [
    "# 12. Calculate Number of tickets per region, per year, and per month\n",
    "df.groupby([\"region\", \"year\", \"month\"])[\"tag\"].count()"
   ]
  },
  {
   "cell_type": "code",
   "execution_count": 589,
   "metadata": {},
   "outputs": [
    {
     "data": {
      "image/png": "[encoded data removed]",
      "text/plain": [
       "<Figure size 640x480 with 1 Axes>"
      ]
     },
     "metadata": {},
     "output_type": "display_data"
    }
   ],
   "source": [
    "# 13. Visualize number of ticket per year and per month\n",
    "df.groupby([\"year\", \"month\"])[\"tag\"].count().plot.bar()\n",
    "plt.title(\"Number of monthly tickets\")\n",
    "plt.xlabel(\"Year & Month\")\n",
    "plt.ylabel(\"Tickets\")\n",
    "plt.show()"
   ]
  },
  {
   "cell_type": "code",
   "execution_count": 590,
   "metadata": {},
   "outputs": [],
   "source": [
    "# 14.1. Create dataframe for further analysis\n",
    "work_df = pd.DataFrame()\n",
    "work_df = df.groupby([\"region\", \"year\", \"month\"])[\"tag\"].count().reset_index()"
   ]
  },
  {
   "cell_type": "code",
   "execution_count": 591,
   "metadata": {},
   "outputs": [],
   "source": [
    "# 14.2. Update new dataframe with number of account per region\n",
    "accounts = []\n",
    "\n",
    "for index in range(6):\n",
    "    for _ in range(36):\n",
    "        accounts.append(df[\"region\"].value_counts().iloc[index])\n",
    "\n",
    "work_df[\"No_Accounts\"] = accounts"
   ]
  },
  {
   "cell_type": "code",
   "execution_count": 592,
   "metadata": {},
   "outputs": [],
   "source": [
    "# 14.3. Rename columns in new dataframe\n",
    "work_df.rename(columns={\"region\": \"Region\", \"year\": \"Year\", \"month\": \"Month\", \"tag\": \"No_Tickets\"}, inplace=True)"
   ]
  },
  {
   "cell_type": "code",
   "execution_count": 593,
   "metadata": {},
   "outputs": [],
   "source": [
    "# 14.4. Add coefficients to new dataframe\n",
    "work_df[\"Coefficient\"] = work_df[\"No_Tickets\"] / work_df[\"No_Accounts\"]"
   ]
  },
  {
   "cell_type": "code",
   "execution_count": 594,
   "metadata": {},
   "outputs": [
    {
     "data": {
      "image/png": "[encoded data removed]",
      "text/plain": [
       "<Figure size 640x480 with 6 Axes>"
      ]
     },
     "metadata": {},
     "output_type": "display_data"
    }
   ],
   "source": [
    "# 15.1. Visualize coefficient state for regions in before new router configuration\n",
    "months = [1,2,3,4,5,6,7,8,9,10,11,12,13,14,15,16,17,18,19,20,21,22,23,24,25,26,27,28,29,30,31,32,33,34,35,36]\n",
    "\n",
    "fig, axs = plt.subplots(2, 3)\n",
    "fig.suptitle('Coefficient for Jan 2019 - August 2021')\n",
    "\n",
    "axs[0, 0].plot(months[:-4], work_df.loc[0:31, \"Coefficient\"], 'tab:orange')\n",
    "axs[0, 0].set_title('Region 1')\n",
    "\n",
    "axs[0, 1].plot(months[:-4], work_df.loc[36:67, \"Coefficient\"], 'tab:orange')\n",
    "axs[0, 1].set_title('Region 2')\n",
    "\n",
    "axs[0, 2].plot(months[:-4], work_df.loc[72:103, \"Coefficient\"], 'tab:orange')\n",
    "axs[0, 2].set_title('Region 3')\n",
    "\n",
    "axs[1, 0].plot(months[:-4], work_df.loc[108:139, \"Coefficient\"], 'tab:orange')\n",
    "axs[1, 0].set_title('Region 4')\n",
    "\n",
    "axs[1, 1].plot(months[:-4], work_df.loc[144:175, \"Coefficient\"], 'tab:orange')\n",
    "axs[1, 1].set_title('Region 5')\n",
    "\n",
    "axs[1, 2].plot(months[:-4], work_df.loc[180:211, \"Coefficient\"], 'tab:orange')\n",
    "axs[1, 2].set_title('Region 6')\n",
    "\n",
    "for ax in axs.flat:\n",
    "    ax.set(xlabel='Month', ylabel='No Tickets')\n",
    "\n",
    "# Hide x labels and tick labels for top plots and y ticks for right plots.\n",
    "for ax in axs.flat:\n",
    "    ax.label_outer()"
   ]
  },
  {
   "cell_type": "code",
   "execution_count": 595,
   "metadata": {},
   "outputs": [
    {
     "data": {
      "image/png": "[encoded data removed]",
      "text/plain": [
       "<Figure size 640x480 with 6 Axes>"
      ]
     },
     "metadata": {},
     "output_type": "display_data"
    }
   ],
   "source": [
    "# 15.2. Visualize coefficient state for regions after new router configuration\n",
    "months = [1,2,3,4,5,6,7,8,9,10,11,12,13,14,15,16,17,18,19,20,21,22,23,24,25,26,27,28,29,30,31,32,33,34,35,36]\n",
    "\n",
    "fig, axs = plt.subplots(2, 3)\n",
    "fig.suptitle('Coefficient for Jan 2019 - Dec 2021')\n",
    "\n",
    "axs[0, 0].plot(months, work_df.loc[0:35, \"Coefficient\"], 'tab:orange')\n",
    "axs[0, 0].set_title('Region 1')\n",
    "\n",
    "axs[0, 1].plot(months, work_df.loc[36:71, \"Coefficient\"], 'tab:orange')\n",
    "axs[0, 1].set_title('Region 2')\n",
    "\n",
    "axs[0, 2].plot(months, work_df.loc[72:107, \"Coefficient\"], 'tab:red')\n",
    "axs[0, 2].set_title('Region 3')\n",
    "\n",
    "axs[1, 0].plot(months, work_df.loc[108:143, \"Coefficient\"], 'tab:orange')\n",
    "axs[1, 0].set_title('Region 4')\n",
    "\n",
    "axs[1, 1].plot(months, work_df.loc[144:179, \"Coefficient\"], 'tab:orange')\n",
    "axs[1, 1].set_title('Region 5')\n",
    "\n",
    "axs[1, 2].plot(months, work_df.loc[180:215, \"Coefficient\"], 'tab:red')\n",
    "axs[1, 2].set_title('Region 6')\n",
    "\n",
    "for ax in axs.flat:\n",
    "    ax.set(xlabel='Month', ylabel='No Tickets')\n",
    "\n",
    "# Hide x labels and tick labels for top plots and y ticks for right plots.\n",
    "for ax in axs.flat:\n",
    "    ax.label_outer()"
   ]
  },
  {
   "cell_type": "markdown",
   "metadata": {},
   "source": [
    "## 3. Model build"
   ]
  },
  {
   "cell_type": "markdown",
   "metadata": {},
   "source": [
    "3.1. Modeling"
   ]
  },
  {
   "cell_type": "code",
   "execution_count": 596,
   "metadata": {},
   "outputs": [],
   "source": [
    "# 1. Create features and predicted values\n",
    "X = work_df.iloc[:, [0, 1, 2]].values\n",
    "y = work_df.iloc[:, 3].values"
   ]
  },
  {
   "cell_type": "code",
   "execution_count": 597,
   "metadata": {},
   "outputs": [],
   "source": [
    "# 2. Transform categorical feature to numerical\n",
    "ct = ColumnTransformer(transformers=[('encoder', OneHotEncoder(), [0])], remainder='passthrough')\n",
    "X = np.array(ct.fit_transform(X))"
   ]
  },
  {
   "cell_type": "code",
   "execution_count": 598,
   "metadata": {},
   "outputs": [],
   "source": [
    "# 3. Split dataset to train and test data\n",
    "X_train, X_test, y_train, y_test = train_test_split(X, y, test_size=0.2, random_state=0)"
   ]
  },
  {
   "cell_type": "code",
   "execution_count": 599,
   "metadata": {},
   "outputs": [
    {
     "data": {
      "text/html": [
       "<style>#sk-container-id-7 {color: black;}#sk-container-id-7 pre{padding: 0;}#sk-container-id-7 div.sk-toggleable {background-color: white;}#sk-container-id-7 label.sk-toggleable__label {cursor: pointer;display: block;width: 100%;margin-bottom: 0;padding: 0.3em;box-sizing: border-box;text-align: center;}#sk-container-id-7 label.sk-toggleable__label-arrow:before {content: \"▸\";float: left;margin-right: 0.25em;color: #696969;}#sk-container-id-7 label.sk-toggleable__label-arrow:hover:before {color: black;}#sk-container-id-7 div.sk-estimator:hover label.sk-toggleable__label-arrow:before {color: black;}#sk-container-id-7 div.sk-toggleable__content {max-height: 0;max-width: 0;overflow: hidden;text-align: left;background-color: #f0f8ff;}#sk-container-id-7 div.sk-toggleable__content pre {margin: 0.2em;color: black;border-radius: 0.25em;background-color: #f0f8ff;}#sk-container-id-7 input.sk-toggleable__control:checked~div.sk-toggleable__content {max-height: 200px;max-width: 100%;overflow: auto;}#sk-container-id-7 input.sk-toggleable__control:checked~label.sk-toggleable__label-arrow:before {content: \"▾\";}#sk-container-id-7 div.sk-estimator input.sk-toggleable__control:checked~label.sk-toggleable__label {background-color: #d4ebff;}#sk-container-id-7 div.sk-label input.sk-toggleable__control:checked~label.sk-toggleable__label {background-color: #d4ebff;}#sk-container-id-7 input.sk-hidden--visually {border: 0;clip: rect(1px 1px 1px 1px);clip: rect(1px, 1px, 1px, 1px);height: 1px;margin: -1px;overflow: hidden;padding: 0;position: absolute;width: 1px;}#sk-container-id-7 div.sk-estimator {font-family: monospace;background-color: #f0f8ff;border: 1px dotted black;border-radius: 0.25em;box-sizing: border-box;margin-bottom: 0.5em;}#sk-container-id-7 div.sk-estimator:hover {background-color: #d4ebff;}#sk-container-id-7 div.sk-parallel-item::after {content: \"\";width: 100%;border-bottom: 1px solid gray;flex-grow: 1;}#sk-container-id-7 div.sk-label:hover label.sk-toggleable__label {background-color: #d4ebff;}#sk-container-id-7 div.sk-serial::before {content: \"\";position: absolute;border-left: 1px solid gray;box-sizing: border-box;top: 0;bottom: 0;left: 50%;z-index: 0;}#sk-container-id-7 div.sk-serial {display: flex;flex-direction: column;align-items: center;background-color: white;padding-right: 0.2em;padding-left: 0.2em;position: relative;}#sk-container-id-7 div.sk-item {position: relative;z-index: 1;}#sk-container-id-7 div.sk-parallel {display: flex;align-items: stretch;justify-content: center;background-color: white;position: relative;}#sk-container-id-7 div.sk-item::before, #sk-container-id-7 div.sk-parallel-item::before {content: \"\";position: absolute;border-left: 1px solid gray;box-sizing: border-box;top: 0;bottom: 0;left: 50%;z-index: -1;}#sk-container-id-7 div.sk-parallel-item {display: flex;flex-direction: column;z-index: 1;position: relative;background-color: white;}#sk-container-id-7 div.sk-parallel-item:first-child::after {align-self: flex-end;width: 50%;}#sk-container-id-7 div.sk-parallel-item:last-child::after {align-self: flex-start;width: 50%;}#sk-container-id-7 div.sk-parallel-item:only-child::after {width: 0;}#sk-container-id-7 div.sk-dashed-wrapped {border: 1px dashed gray;margin: 0 0.4em 0.5em 0.4em;box-sizing: border-box;padding-bottom: 0.4em;background-color: white;}#sk-container-id-7 div.sk-label label {font-family: monospace;font-weight: bold;display: inline-block;line-height: 1.2em;}#sk-container-id-7 div.sk-label-container {text-align: center;}#sk-container-id-7 div.sk-container {/* jupyter's `normalize.less` sets `[hidden] { display: none; }` but bootstrap.min.css set `[hidden] { display: none !important; }` so we also need the `!important` here to be able to override the default hidden behavior on the sphinx rendered scikit-learn.org. See: https://github.com/scikit-learn/scikit-learn/issues/21755 */display: inline-block !important;position: relative;}#sk-container-id-7 div.sk-text-repr-fallback {display: none;}</style><div id=\"sk-container-id-7\" class=\"sk-top-container\"><div class=\"sk-text-repr-fallback\"><pre>LinearRegression()</pre><b>In a Jupyter environment, please rerun this cell to show the HTML representation or trust the notebook. <br />On GitHub, the HTML representation is unable to render, please try loading this page with nbviewer.org.</b></div><div class=\"sk-container\" hidden><div class=\"sk-item\"><div class=\"sk-estimator sk-toggleable\"><input class=\"sk-toggleable__control sk-hidden--visually\" id=\"sk-estimator-id-7\" type=\"checkbox\" checked><label for=\"sk-estimator-id-7\" class=\"sk-toggleable__label sk-toggleable__label-arrow\">LinearRegression</label><div class=\"sk-toggleable__content\"><pre>LinearRegression()</pre></div></div></div></div></div>"
      ],
      "text/plain": [
       "LinearRegression()"
      ]
     },
     "execution_count": 599,
     "metadata": {},
     "output_type": "execute_result"
    }
   ],
   "source": [
    "# 4. Train the model\n",
    "model = LinearRegression()\n",
    "model.fit(X_train, y_train)"
   ]
  },
  {
   "cell_type": "code",
   "execution_count": 600,
   "metadata": {},
   "outputs": [],
   "source": [
    "# 5. Predict values from test data\n",
    "y_pred = model.predict(X_test)"
   ]
  },
  {
   "cell_type": "markdown",
   "metadata": {},
   "source": [
    "3.2. Evaluation"
   ]
  },
  {
   "cell_type": "code",
   "execution_count": 601,
   "metadata": {},
   "outputs": [
    {
     "ename": "ValueError",
     "evalue": "Classification metrics can't handle a mix of multiclass and continuous targets",
     "output_type": "error",
     "traceback": [
      "\u001b[1;31m---------------------------------------------------------------------------\u001b[0m",
      "\u001b[1;31mValueError\u001b[0m                                Traceback (most recent call last)",
      "Cell \u001b[1;32mIn[601], line 2\u001b[0m\n\u001b[0;32m      1\u001b[0m \u001b[38;5;66;03m# 1. Evaluate performance of the model\u001b[39;00m\n\u001b[1;32m----> 2\u001b[0m cm \u001b[38;5;241m=\u001b[39m \u001b[43mconfusion_matrix\u001b[49m\u001b[43m(\u001b[49m\u001b[43my_test\u001b[49m\u001b[43m,\u001b[49m\u001b[43m \u001b[49m\u001b[43my_pred\u001b[49m\u001b[43m)\u001b[49m\n\u001b[0;32m      3\u001b[0m \u001b[38;5;28mprint\u001b[39m(cm)\n\u001b[0;32m      4\u001b[0m accuracy_score(y_test, y_pred)\n",
      "File \u001b[1;32mc:\\Users\\rmurz\\AppData\\Local\\Programs\\Python\\Python311\\Lib\\site-packages\\sklearn\\utils\\_param_validation.py:214\u001b[0m, in \u001b[0;36mvalidate_params.<locals>.decorator.<locals>.wrapper\u001b[1;34m(*args, **kwargs)\u001b[0m\n\u001b[0;32m    208\u001b[0m \u001b[38;5;28;01mtry\u001b[39;00m:\n\u001b[0;32m    209\u001b[0m     \u001b[38;5;28;01mwith\u001b[39;00m config_context(\n\u001b[0;32m    210\u001b[0m         skip_parameter_validation\u001b[38;5;241m=\u001b[39m(\n\u001b[0;32m    211\u001b[0m             prefer_skip_nested_validation \u001b[38;5;129;01mor\u001b[39;00m global_skip_validation\n\u001b[0;32m    212\u001b[0m         )\n\u001b[0;32m    213\u001b[0m     ):\n\u001b[1;32m--> 214\u001b[0m         \u001b[38;5;28;01mreturn\u001b[39;00m \u001b[43mfunc\u001b[49m\u001b[43m(\u001b[49m\u001b[38;5;241;43m*\u001b[39;49m\u001b[43margs\u001b[49m\u001b[43m,\u001b[49m\u001b[43m \u001b[49m\u001b[38;5;241;43m*\u001b[39;49m\u001b[38;5;241;43m*\u001b[39;49m\u001b[43mkwargs\u001b[49m\u001b[43m)\u001b[49m\n\u001b[0;32m    215\u001b[0m \u001b[38;5;28;01mexcept\u001b[39;00m InvalidParameterError \u001b[38;5;28;01mas\u001b[39;00m e:\n\u001b[0;32m    216\u001b[0m     \u001b[38;5;66;03m# When the function is just a wrapper around an estimator, we allow\u001b[39;00m\n\u001b[0;32m    217\u001b[0m     \u001b[38;5;66;03m# the function to delegate validation to the estimator, but we replace\u001b[39;00m\n\u001b[0;32m    218\u001b[0m     \u001b[38;5;66;03m# the name of the estimator by the name of the function in the error\u001b[39;00m\n\u001b[0;32m    219\u001b[0m     \u001b[38;5;66;03m# message to avoid confusion.\u001b[39;00m\n\u001b[0;32m    220\u001b[0m     msg \u001b[38;5;241m=\u001b[39m re\u001b[38;5;241m.\u001b[39msub(\n\u001b[0;32m    221\u001b[0m         \u001b[38;5;124mr\u001b[39m\u001b[38;5;124m\"\u001b[39m\u001b[38;5;124mparameter of \u001b[39m\u001b[38;5;124m\\\u001b[39m\u001b[38;5;124mw+ must be\u001b[39m\u001b[38;5;124m\"\u001b[39m,\n\u001b[0;32m    222\u001b[0m         \u001b[38;5;124mf\u001b[39m\u001b[38;5;124m\"\u001b[39m\u001b[38;5;124mparameter of \u001b[39m\u001b[38;5;132;01m{\u001b[39;00mfunc\u001b[38;5;241m.\u001b[39m\u001b[38;5;18m__qualname__\u001b[39m\u001b[38;5;132;01m}\u001b[39;00m\u001b[38;5;124m must be\u001b[39m\u001b[38;5;124m\"\u001b[39m,\n\u001b[0;32m    223\u001b[0m         \u001b[38;5;28mstr\u001b[39m(e),\n\u001b[0;32m    224\u001b[0m     )\n",
      "File \u001b[1;32mc:\\Users\\rmurz\\AppData\\Local\\Programs\\Python\\Python311\\Lib\\site-packages\\sklearn\\metrics\\_classification.py:326\u001b[0m, in \u001b[0;36mconfusion_matrix\u001b[1;34m(y_true, y_pred, labels, sample_weight, normalize)\u001b[0m\n\u001b[0;32m    231\u001b[0m \u001b[38;5;129m@validate_params\u001b[39m(\n\u001b[0;32m    232\u001b[0m     {\n\u001b[0;32m    233\u001b[0m         \u001b[38;5;124m\"\u001b[39m\u001b[38;5;124my_true\u001b[39m\u001b[38;5;124m\"\u001b[39m: [\u001b[38;5;124m\"\u001b[39m\u001b[38;5;124marray-like\u001b[39m\u001b[38;5;124m\"\u001b[39m],\n\u001b[1;32m   (...)\u001b[0m\n\u001b[0;32m    242\u001b[0m     y_true, y_pred, \u001b[38;5;241m*\u001b[39m, labels\u001b[38;5;241m=\u001b[39m\u001b[38;5;28;01mNone\u001b[39;00m, sample_weight\u001b[38;5;241m=\u001b[39m\u001b[38;5;28;01mNone\u001b[39;00m, normalize\u001b[38;5;241m=\u001b[39m\u001b[38;5;28;01mNone\u001b[39;00m\n\u001b[0;32m    243\u001b[0m ):\n\u001b[0;32m    244\u001b[0m \u001b[38;5;250m    \u001b[39m\u001b[38;5;124;03m\"\"\"Compute confusion matrix to evaluate the accuracy of a classification.\u001b[39;00m\n\u001b[0;32m    245\u001b[0m \n\u001b[0;32m    246\u001b[0m \u001b[38;5;124;03m    By definition a confusion matrix :math:`C` is such that :math:`C_{i, j}`\u001b[39;00m\n\u001b[1;32m   (...)\u001b[0m\n\u001b[0;32m    324\u001b[0m \u001b[38;5;124;03m    (0, 2, 1, 1)\u001b[39;00m\n\u001b[0;32m    325\u001b[0m \u001b[38;5;124;03m    \"\"\"\u001b[39;00m\n\u001b[1;32m--> 326\u001b[0m     y_type, y_true, y_pred \u001b[38;5;241m=\u001b[39m \u001b[43m_check_targets\u001b[49m\u001b[43m(\u001b[49m\u001b[43my_true\u001b[49m\u001b[43m,\u001b[49m\u001b[43m \u001b[49m\u001b[43my_pred\u001b[49m\u001b[43m)\u001b[49m\n\u001b[0;32m    327\u001b[0m     \u001b[38;5;28;01mif\u001b[39;00m y_type \u001b[38;5;129;01mnot\u001b[39;00m \u001b[38;5;129;01min\u001b[39;00m (\u001b[38;5;124m\"\u001b[39m\u001b[38;5;124mbinary\u001b[39m\u001b[38;5;124m\"\u001b[39m, \u001b[38;5;124m\"\u001b[39m\u001b[38;5;124mmulticlass\u001b[39m\u001b[38;5;124m\"\u001b[39m):\n\u001b[0;32m    328\u001b[0m         \u001b[38;5;28;01mraise\u001b[39;00m \u001b[38;5;167;01mValueError\u001b[39;00m(\u001b[38;5;124m\"\u001b[39m\u001b[38;5;132;01m%s\u001b[39;00m\u001b[38;5;124m is not supported\u001b[39m\u001b[38;5;124m\"\u001b[39m \u001b[38;5;241m%\u001b[39m y_type)\n",
      "File \u001b[1;32mc:\\Users\\rmurz\\AppData\\Local\\Programs\\Python\\Python311\\Lib\\site-packages\\sklearn\\metrics\\_classification.py:93\u001b[0m, in \u001b[0;36m_check_targets\u001b[1;34m(y_true, y_pred)\u001b[0m\n\u001b[0;32m     90\u001b[0m     y_type \u001b[38;5;241m=\u001b[39m {\u001b[38;5;124m\"\u001b[39m\u001b[38;5;124mmulticlass\u001b[39m\u001b[38;5;124m\"\u001b[39m}\n\u001b[0;32m     92\u001b[0m \u001b[38;5;28;01mif\u001b[39;00m \u001b[38;5;28mlen\u001b[39m(y_type) \u001b[38;5;241m>\u001b[39m \u001b[38;5;241m1\u001b[39m:\n\u001b[1;32m---> 93\u001b[0m     \u001b[38;5;28;01mraise\u001b[39;00m \u001b[38;5;167;01mValueError\u001b[39;00m(\n\u001b[0;32m     94\u001b[0m         \u001b[38;5;124m\"\u001b[39m\u001b[38;5;124mClassification metrics can\u001b[39m\u001b[38;5;124m'\u001b[39m\u001b[38;5;124mt handle a mix of \u001b[39m\u001b[38;5;132;01m{0}\u001b[39;00m\u001b[38;5;124m and \u001b[39m\u001b[38;5;132;01m{1}\u001b[39;00m\u001b[38;5;124m targets\u001b[39m\u001b[38;5;124m\"\u001b[39m\u001b[38;5;241m.\u001b[39mformat(\n\u001b[0;32m     95\u001b[0m             type_true, type_pred\n\u001b[0;32m     96\u001b[0m         )\n\u001b[0;32m     97\u001b[0m     )\n\u001b[0;32m     99\u001b[0m \u001b[38;5;66;03m# We can't have more than one value on y_type => The set is no more needed\u001b[39;00m\n\u001b[0;32m    100\u001b[0m y_type \u001b[38;5;241m=\u001b[39m y_type\u001b[38;5;241m.\u001b[39mpop()\n",
      "\u001b[1;31mValueError\u001b[0m: Classification metrics can't handle a mix of multiclass and continuous targets"
     ]
    }
   ],
   "source": [
    "# 1. Evaluate performance of the model\n",
    "cm = confusion_matrix(y_test, y_pred)\n",
    "print(cm)\n",
    "accuracy_score(y_test, y_pred)"
   ]
  },
  {
   "cell_type": "markdown",
   "metadata": {},
   "source": [
    "## 4. Insights"
   ]
  },
  {
   "cell_type": "code",
   "execution_count": null,
   "metadata": {},
   "outputs": [],
   "source": [
    "# 1.1. Create functionality for predicted values for current configuration\n",
    "\n",
    "def make_prediction(region_number, year, months_index):\n",
    "\n",
    "    # Create values for regions\n",
    "    regions = [0.0, 0.0, 0.0, 0.0, 0.0, 0.0]\n",
    "    regions[region_number - 1] = 1.0\n",
    "    r_1, r_2, r_3, r_4, r_5, r_6 = regions\n",
    "\n",
    "    # Establish month index and name\n",
    "    months = {1: \"January\", 2: \"February\", 3: \"March\", 4: \"April\", 5: \"May\", 6: \"June\", 7: \"July\", 8: \"August\", 9: \"September\", 10: \"October\", 11: \"November\", 12: \"December\"}\n",
    "    start_month = months_index[0]\n",
    "    final_month = months_index[-1]\n",
    "\n",
    "    # Establish the year\n",
    "    year_value = year\n",
    "\n",
    "    # Display region and router configuration\n",
    "    print(f\"In Region {region_number}, in current conditions, expected number of tickets will be:\")\n",
    "\n",
    "    # Initialize list of predicted number of tickets\n",
    "    no_tickets = []\n",
    "\n",
    "    # Generate prediction for each desired month\n",
    "    for month_index in range(start_month, final_month + 1):\n",
    "        predict = model.predict([[r_1, r_2, r_3, r_4, r_5, r_6, year_value, month_index]]).tolist()\n",
    "        no_tickets.append(int(predict[0]))\n",
    "        print(f\"- for {months[month_index]} {year_value}: {int(predict[0])} tickets.\")\n",
    "    print(\"\")\n",
    "\n",
    "    # Return list of predicted number of tickets\n",
    "    return no_tickets"
   ]
  },
  {
   "cell_type": "code",
   "execution_count": null,
   "metadata": {},
   "outputs": [
    {
     "name": "stdout",
     "output_type": "stream",
     "text": [
      "In Region 1, in current conditions, expected number of tickets will be:\n",
      "- for January 2022: 8375 tickets.\n",
      "- for February 2022: 8476 tickets.\n",
      "- for March 2022: 8577 tickets.\n",
      "\n",
      "In Region 2, in current conditions, expected number of tickets will be:\n",
      "- for January 2022: 4431 tickets.\n",
      "- for February 2022: 4532 tickets.\n",
      "- for March 2022: 4634 tickets.\n",
      "\n",
      "In Region 3, in current conditions, expected number of tickets will be:\n",
      "- for January 2022: 6880 tickets.\n",
      "- for February 2022: 6981 tickets.\n",
      "- for March 2022: 7082 tickets.\n",
      "\n",
      "In Region 4, in current conditions, expected number of tickets will be:\n",
      "- for January 2022: 3702 tickets.\n",
      "- for February 2022: 3803 tickets.\n",
      "- for March 2022: 3904 tickets.\n",
      "\n",
      "In Region 5, in current conditions, expected number of tickets will be:\n",
      "- for January 2022: 5997 tickets.\n",
      "- for February 2022: 6098 tickets.\n",
      "- for March 2022: 6199 tickets.\n",
      "\n",
      "In Region 6, in current conditions, expected number of tickets will be:\n",
      "- for January 2022: 2847 tickets.\n",
      "- for February 2022: 2949 tickets.\n",
      "- for March 2022: 3050 tickets.\n",
      "\n"
     ]
    }
   ],
   "source": [
    "\n",
    "# 1.2. Make predictions for current configuration for all regions\n",
    "for i in range(1, 7):\n",
    "    make_prediction(i, 2022, [1, 3])"
   ]
  },
  {
   "cell_type": "code",
   "execution_count": null,
   "metadata": {},
   "outputs": [],
   "source": [
    "# 2. Extract mean coefficient per each region\n",
    "avg_coef_df = work_df.groupby(by=\"Region\").mean()\n",
    "avg_coef_df.iloc[5, 4]\n",
    "\n",
    "# Calculate max and mean coefficient from region 3 and 6\n",
    "mean_A = work_df.loc[72:104, \"Coefficient\"].mean()\n",
    "max_A = work_df.loc[72:107, \"Coefficient\"].max()\n",
    "\n",
    "mean_B = work_df.loc[180:212, \"Coefficient\"].mean()\n",
    "max_B = work_df.loc[180:215, \"Coefficient\"].max()\n",
    "\n",
    "# Make assumption based on router configuration\n",
    "impact_method_A = max_A / mean_A\n",
    "impact_method_B = max_B / mean_B"
   ]
  },
  {
   "cell_type": "code",
   "execution_count": null,
   "metadata": {},
   "outputs": [],
   "source": [
    "# 3.1. Create functionality for predicted values for new configuration\n",
    "\n",
    "def make_new_prediction(region_number, year, months_index, method_option):\n",
    "    \n",
    "    # Create values for regions\n",
    "    regions = [0.0, 0.0, 0.0, 0.0, 0.0, 0.0]\n",
    "    regions[region_number - 1] = 1.0\n",
    "    r_1, r_2, r_3, r_4, r_5, r_6 = regions\n",
    "\n",
    "    # Establish month index and name\n",
    "    months = {1: \"January\", 2: \"February\", 3: \"March\", 4: \"April\", 5: \"May\", 6: \"June\", 7: \"July\", 8: \"August\", 9: \"September\", 10: \"October\", 11: \"November\", 12: \"December\"}\n",
    "    start_month = months_index[0]\n",
    "    final_month = months_index[-1]\n",
    "\n",
    "    # Establish the year\n",
    "    year_value = year\n",
    "\n",
    "    # Set coefficient value based on method used\n",
    "    if method_option == \"A\":\n",
    "        coefficient = impact_method_A\n",
    "    elif method_option == \"B\":\n",
    "        coefficient = impact_method_B\n",
    "    else:\n",
    "        coefficient = 1\n",
    "    \n",
    "    # Display region and router configuration\n",
    "    print(f\"In Region {region_number}, using method {method_option}, expected number of tickets will be:\")\n",
    "\n",
    "    # Initialize list of predicted number of tickets\n",
    "    no_tickets = []\n",
    "\n",
    "    # Generate prediction for each desired month\n",
    "    for index in range(start_month, final_month + 1):\n",
    "        predict = model.predict([[r_1, r_2, r_3, r_4, r_5, r_6, year_value, index]]).tolist()\n",
    "        new_predict = int(int(predict[0]) * coefficient)\n",
    "        no_tickets.append(new_predict)\n",
    "        print(f\"- for {months[index]} {year_value}: {new_predict} tickets.\")\n",
    "    print(\"\")\n",
    "\n",
    "    # Return list of predicted number of tickets\n",
    "    return no_tickets"
   ]
  },
  {
   "cell_type": "code",
   "execution_count": null,
   "metadata": {},
   "outputs": [
    {
     "name": "stdout",
     "output_type": "stream",
     "text": [
      "In Region 1, using method A, expected number of tickets will be:\n",
      "- for January 2022: 32538 tickets.\n",
      "- for February 2022: 32930 tickets.\n",
      "- for March 2022: 33323 tickets.\n",
      "\n",
      "In Region 2, using method A, expected number of tickets will be:\n",
      "- for January 2022: 17215 tickets.\n",
      "- for February 2022: 17607 tickets.\n",
      "- for March 2022: 18004 tickets.\n",
      "\n",
      "In Region 3, using method A, expected number of tickets will be:\n",
      "- for January 2022: 26730 tickets.\n",
      "- for February 2022: 27122 tickets.\n",
      "- for March 2022: 27515 tickets.\n",
      "\n",
      "In Region 4, using method A, expected number of tickets will be:\n",
      "- for January 2022: 14383 tickets.\n",
      "- for February 2022: 14775 tickets.\n",
      "- for March 2022: 15167 tickets.\n",
      "\n",
      "In Region 5, using method A, expected number of tickets will be:\n",
      "- for January 2022: 23299 tickets.\n",
      "- for February 2022: 23691 tickets.\n",
      "- for March 2022: 24084 tickets.\n",
      "\n",
      "In Region 6, using method A, expected number of tickets will be:\n",
      "- for January 2022: 11061 tickets.\n",
      "- for February 2022: 11457 tickets.\n",
      "- for March 2022: 11849 tickets.\n",
      "\n"
     ]
    }
   ],
   "source": [
    "# 3.2. Make predictions for configuration with method A for all regions\n",
    "for i in range(1, 7):\n",
    "    make_new_prediction(i, 2022, [1, 3], \"A\")"
   ]
  },
  {
   "cell_type": "code",
   "execution_count": null,
   "metadata": {},
   "outputs": [
    {
     "name": "stdout",
     "output_type": "stream",
     "text": [
      "In Region 1, using method B, expected number of tickets will be:\n",
      "- for January 2022: 41496 tickets.\n",
      "- for February 2022: 41997 tickets.\n",
      "- for March 2022: 42497 tickets.\n",
      "\n",
      "In Region 2, using method B, expected number of tickets will be:\n",
      "- for January 2022: 21954 tickets.\n",
      "- for February 2022: 22455 tickets.\n",
      "- for March 2022: 22960 tickets.\n",
      "\n",
      "In Region 3, using method B, expected number of tickets will be:\n",
      "- for January 2022: 34089 tickets.\n",
      "- for February 2022: 34589 tickets.\n",
      "- for March 2022: 35090 tickets.\n",
      "\n",
      "In Region 4, using method B, expected number of tickets will be:\n",
      "- for January 2022: 18342 tickets.\n",
      "- for February 2022: 18843 tickets.\n",
      "- for March 2022: 19343 tickets.\n",
      "\n",
      "In Region 5, using method B, expected number of tickets will be:\n",
      "- for January 2022: 29714 tickets.\n",
      "- for February 2022: 30214 tickets.\n",
      "- for March 2022: 30715 tickets.\n",
      "\n",
      "In Region 6, using method B, expected number of tickets will be:\n",
      "- for January 2022: 14106 tickets.\n",
      "- for February 2022: 14611 tickets.\n",
      "- for March 2022: 15112 tickets.\n",
      "\n"
     ]
    }
   ],
   "source": [
    "# 3.3. Make predictions for configuration with method B for all regions\n",
    "for i in range(1, 7):\n",
    "    make_new_prediction(i, 2022, [1, 3], \"B\")"
   ]
  },
  {
   "cell_type": "code",
   "execution_count": null,
   "metadata": {},
   "outputs": [],
   "source": [
    "# 4.1. Create functionality for method recommendation\n",
    "\n",
    "def recommend_method(values_a, values_b):\n",
    "    if sum(values_a) < sum(values_b):\n",
    "        print(f\"Recommended method is A.\")\n",
    "    elif sum(values_a) > sum(values_b):\n",
    "        print(f\"Recommended method is B.\")\n",
    "    else:\n",
    "        print(f\"Recommended method is not clear detected.\")"
   ]
  },
  {
   "cell_type": "code",
   "execution_count": null,
   "metadata": {},
   "outputs": [
    {
     "name": "stdout",
     "output_type": "stream",
     "text": [
      "In Region 1, using method A, expected number of tickets will be:\n",
      "- for January 2024: 39667 tickets.\n",
      "- for February 2024: 40064 tickets.\n",
      "- for March 2024: 40456 tickets.\n",
      "- for April 2024: 40849 tickets.\n",
      "- for May 2024: 41245 tickets.\n",
      "- for June 2024: 41637 tickets.\n",
      "- for July 2024: 42030 tickets.\n",
      "- for August 2024: 42426 tickets.\n",
      "- for September 2024: 42818 tickets.\n",
      "- for October 2024: 43211 tickets.\n",
      "- for November 2024: 43603 tickets.\n",
      "- for December 2024: 43999 tickets.\n",
      "\n",
      "In Region 1, using method B, expected number of tickets will be:\n",
      "- for January 2024: 50589 tickets.\n",
      "- for February 2024: 51094 tickets.\n",
      "- for March 2024: 51594 tickets.\n",
      "- for April 2024: 52095 tickets.\n",
      "- for May 2024: 52600 tickets.\n",
      "- for June 2024: 53101 tickets.\n",
      "- for July 2024: 53601 tickets.\n",
      "- for August 2024: 54107 tickets.\n",
      "- for September 2024: 54607 tickets.\n",
      "- for October 2024: 55107 tickets.\n",
      "- for November 2024: 55608 tickets.\n",
      "- for December 2024: 56113 tickets.\n",
      "\n",
      "In Region 2, using method A, expected number of tickets will be:\n",
      "- for January 2024: 24348 tickets.\n",
      "- for February 2024: 24740 tickets.\n",
      "- for March 2024: 25137 tickets.\n",
      "- for April 2024: 25529 tickets.\n",
      "- for May 2024: 25922 tickets.\n",
      "- for June 2024: 26314 tickets.\n",
      "- for July 2024: 26710 tickets.\n",
      "- for August 2024: 27103 tickets.\n",
      "- for September 2024: 27495 tickets.\n",
      "- for October 2024: 27891 tickets.\n",
      "- for November 2024: 28284 tickets.\n",
      "- for December 2024: 28676 tickets.\n",
      "\n",
      "In Region 2, using method B, expected number of tickets will be:\n",
      "- for January 2024: 31052 tickets.\n",
      "- for February 2024: 31552 tickets.\n",
      "- for March 2024: 32057 tickets.\n",
      "- for April 2024: 32558 tickets.\n",
      "- for May 2024: 33058 tickets.\n",
      "- for June 2024: 33559 tickets.\n",
      "- for July 2024: 34064 tickets.\n",
      "- for August 2024: 34565 tickets.\n",
      "- for September 2024: 35065 tickets.\n",
      "- for October 2024: 35570 tickets.\n",
      "- for November 2024: 36071 tickets.\n",
      "- for December 2024: 36571 tickets.\n",
      "\n",
      "In Region 3, using method A, expected number of tickets will be:\n",
      "- for January 2024: 33859 tickets.\n",
      "- for February 2024: 34255 tickets.\n",
      "- for March 2024: 34648 tickets.\n",
      "- for April 2024: 35040 tickets.\n",
      "- for May 2024: 35436 tickets.\n",
      "- for June 2024: 35829 tickets.\n",
      "- for July 2024: 36221 tickets.\n",
      "- for August 2024: 36614 tickets.\n",
      "- for September 2024: 37010 tickets.\n",
      "- for October 2024: 37402 tickets.\n",
      "- for November 2024: 37795 tickets.\n",
      "- for December 2024: 38191 tickets.\n",
      "\n",
      "In Region 3, using method B, expected number of tickets will be:\n",
      "- for January 2024: 43181 tickets.\n",
      "- for February 2024: 43686 tickets.\n",
      "- for March 2024: 44187 tickets.\n",
      "- for April 2024: 44687 tickets.\n",
      "- for May 2024: 45193 tickets.\n",
      "- for June 2024: 45693 tickets.\n",
      "- for July 2024: 46194 tickets.\n",
      "- for August 2024: 46694 tickets.\n",
      "- for September 2024: 47199 tickets.\n",
      "- for October 2024: 47700 tickets.\n",
      "- for November 2024: 48200 tickets.\n",
      "- for December 2024: 48706 tickets.\n",
      "\n",
      "In Region 4, using method A, expected number of tickets will be:\n",
      "- for January 2024: 21516 tickets.\n",
      "- for February 2024: 21908 tickets.\n",
      "- for March 2024: 22301 tickets.\n",
      "- for April 2024: 22693 tickets.\n",
      "- for May 2024: 23089 tickets.\n",
      "- for June 2024: 23482 tickets.\n",
      "- for July 2024: 23874 tickets.\n",
      "- for August 2024: 24270 tickets.\n",
      "- for September 2024: 24663 tickets.\n",
      "- for October 2024: 25055 tickets.\n",
      "- for November 2024: 25451 tickets.\n",
      "- for December 2024: 25844 tickets.\n",
      "\n",
      "In Region 4, using method B, expected number of tickets will be:\n",
      "- for January 2024: 27439 tickets.\n",
      "- for February 2024: 27940 tickets.\n",
      "- for March 2024: 28440 tickets.\n",
      "- for April 2024: 28941 tickets.\n",
      "- for May 2024: 29446 tickets.\n",
      "- for June 2024: 29947 tickets.\n",
      "- for July 2024: 30447 tickets.\n",
      "- for August 2024: 30952 tickets.\n",
      "- for September 2024: 31453 tickets.\n",
      "- for October 2024: 31953 tickets.\n",
      "- for November 2024: 32459 tickets.\n",
      "- for December 2024: 32959 tickets.\n",
      "\n",
      "In Region 5, using method A, expected number of tickets will be:\n",
      "- for January 2024: 30432 tickets.\n",
      "- for February 2024: 30825 tickets.\n",
      "- for March 2024: 31217 tickets.\n",
      "- for April 2024: 31610 tickets.\n",
      "- for May 2024: 32006 tickets.\n",
      "- for June 2024: 32398 tickets.\n",
      "- for July 2024: 32791 tickets.\n",
      "- for August 2024: 33187 tickets.\n",
      "- for September 2024: 33579 tickets.\n",
      "- for October 2024: 33972 tickets.\n",
      "- for November 2024: 34364 tickets.\n",
      "- for December 2024: 34760 tickets.\n",
      "\n",
      "In Region 5, using method B, expected number of tickets will be:\n",
      "- for January 2024: 38811 tickets.\n",
      "- for February 2024: 39311 tickets.\n",
      "- for March 2024: 39812 tickets.\n",
      "- for April 2024: 40312 tickets.\n",
      "- for May 2024: 40818 tickets.\n",
      "- for June 2024: 41318 tickets.\n",
      "- for July 2024: 41818 tickets.\n",
      "- for August 2024: 42324 tickets.\n",
      "- for September 2024: 42824 tickets.\n",
      "- for October 2024: 43325 tickets.\n",
      "- for November 2024: 43825 tickets.\n",
      "- for December 2024: 44331 tickets.\n",
      "\n",
      "In Region 6, using method A, expected number of tickets will be:\n",
      "- for January 2024: 18194 tickets.\n",
      "- for February 2024: 18590 tickets.\n",
      "- for March 2024: 18983 tickets.\n",
      "- for April 2024: 19375 tickets.\n",
      "- for May 2024: 19767 tickets.\n",
      "- for June 2024: 20164 tickets.\n",
      "- for July 2024: 20556 tickets.\n",
      "- for August 2024: 20949 tickets.\n",
      "- for September 2024: 21345 tickets.\n",
      "- for October 2024: 21737 tickets.\n",
      "- for November 2024: 22130 tickets.\n",
      "- for December 2024: 22522 tickets.\n",
      "\n",
      "In Region 6, using method B, expected number of tickets will be:\n",
      "- for January 2024: 23203 tickets.\n",
      "- for February 2024: 23708 tickets.\n",
      "- for March 2024: 24209 tickets.\n",
      "- for April 2024: 24709 tickets.\n",
      "- for May 2024: 25210 tickets.\n",
      "- for June 2024: 25715 tickets.\n",
      "- for July 2024: 26216 tickets.\n",
      "- for August 2024: 26716 tickets.\n",
      "- for September 2024: 27221 tickets.\n",
      "- for October 2024: 27722 tickets.\n",
      "- for November 2024: 28222 tickets.\n",
      "- for December 2024: 28723 tickets.\n",
      "\n",
      "Recommended method is A.\n"
     ]
    }
   ],
   "source": [
    "# 4.2. Make recommendation of the method to be used\n",
    "for i in range(1, 7):\n",
    "    list_a = make_new_prediction(i, 2024, [1, 12], \"A\")\n",
    "    list_b = make_new_prediction(i, 2024, [1, 12], \"B\")\n",
    "\n",
    "recommend_method(list_a, list_b)"
   ]
  },
  {
   "cell_type": "code",
   "execution_count": null,
   "metadata": {},
   "outputs": [
    {
     "name": "stdout",
     "output_type": "stream",
     "text": [
      "In Region 1, using method A, expected number of tickets will be:\n",
      "- for January 2024: 39667 tickets.\n",
      "- for February 2024: 40064 tickets.\n",
      "- for March 2024: 40456 tickets.\n",
      "\n",
      "In Region 2, using method A, expected number of tickets will be:\n",
      "- for January 2024: 24348 tickets.\n",
      "- for February 2024: 24740 tickets.\n",
      "- for March 2024: 25137 tickets.\n",
      "\n",
      "In Region 4, using method A, expected number of tickets will be:\n",
      "- for January 2024: 21516 tickets.\n",
      "- for February 2024: 21908 tickets.\n",
      "- for March 2024: 22301 tickets.\n",
      "\n",
      "In Region 5, using method A, expected number of tickets will be:\n",
      "- for January 2024: 30432 tickets.\n",
      "- for February 2024: 30825 tickets.\n",
      "- for March 2024: 31217 tickets.\n",
      "\n",
      "In Region 1, using method B, expected number of tickets will be:\n",
      "- for January 2024: 50589 tickets.\n",
      "- for February 2024: 51094 tickets.\n",
      "- for March 2024: 51594 tickets.\n",
      "\n",
      "In Region 2, using method B, expected number of tickets will be:\n",
      "- for January 2024: 31052 tickets.\n",
      "- for February 2024: 31552 tickets.\n",
      "- for March 2024: 32057 tickets.\n",
      "\n",
      "In Region 4, using method B, expected number of tickets will be:\n",
      "- for January 2024: 27439 tickets.\n",
      "- for February 2024: 27940 tickets.\n",
      "- for March 2024: 28440 tickets.\n",
      "\n",
      "In Region 5, using method B, expected number of tickets will be:\n",
      "- for January 2024: 38811 tickets.\n",
      "- for February 2024: 39311 tickets.\n",
      "- for March 2024: 39812 tickets.\n",
      "\n"
     ]
    },
    {
     "data": {
      "image/png": "[encoded data removed]",
      "text/plain": [
       "<Figure size 640x480 with 8 Axes>"
      ]
     },
     "metadata": {},
     "output_type": "display_data"
    }
   ],
   "source": [
    "# 5. Visualize predicted number of tickets\n",
    "months = [1,2,3]\n",
    "\n",
    "reg_1_a = make_new_prediction(1, 2024, [1, 3], \"A\")\n",
    "reg_2_a = make_new_prediction(2, 2024, [1, 3], \"A\")\n",
    "reg_4_a = make_new_prediction(4, 2024, [1, 3], \"A\")\n",
    "reg_5_a = make_new_prediction(5, 2024, [1, 3], \"A\")\n",
    "reg_1_b = make_new_prediction(1, 2024, [1, 3], \"B\")\n",
    "reg_2_b = make_new_prediction(2, 2024, [1, 3], \"B\")\n",
    "reg_4_b = make_new_prediction(4, 2024, [1, 3], \"B\")\n",
    "reg_5_b = make_new_prediction(5, 2024, [1, 3], \"B\")\n",
    "\n",
    "fig, axs = plt.subplots(2, 4)\n",
    "fig.suptitle('Expected number of tickets for Jan 2022 - Mar 2022')\n",
    "\n",
    "axs[0, 0].plot(months, reg_1_a, 'tab:orange')\n",
    "axs[0, 0].set_title('R1 - A')\n",
    "\n",
    "axs[0, 1].plot(months, reg_2_a, 'tab:orange')\n",
    "axs[0, 1].set_title('R2 - A')\n",
    "\n",
    "axs[0, 2].plot(months, reg_4_a, 'tab:orange')\n",
    "axs[0, 2].set_title('R4 - MA')\n",
    "\n",
    "axs[0, 3].plot(months, reg_5_a, 'tab:orange')\n",
    "axs[0, 3].set_title('R5 - MA')\n",
    "\n",
    "axs[1, 0].plot(months, reg_1_b, 'tab:orange')\n",
    "axs[1, 0].set_title('R1 - MA')\n",
    "\n",
    "axs[1, 1].plot(months, reg_2_b, 'tab:orange')\n",
    "axs[1, 1].set_title('R2 - MA')\n",
    "\n",
    "axs[1, 2].plot(months, reg_4_b, 'tab:orange')\n",
    "axs[1, 2].set_title('R4 - MA')\n",
    "\n",
    "axs[1, 3].plot(months, reg_5_b, 'tab:orange')\n",
    "axs[1, 3].set_title('R5 - MA')\n",
    "\n",
    "for ax in axs.flat:\n",
    "    ax.set(xlabel='Month', ylabel='No Tickets')\n",
    "\n",
    "# Hide x labels and tick labels for top plots and y ticks for right plots.\n",
    "for ax in axs.flat:\n",
    "            ax.label_outer()"
   ]
  }
 ],
 "metadata": {
  "kernelspec": {
   "display_name": "Python 3",
   "language": "python",
   "name": "python3"
  },
  "language_info": {
   "codemirror_mode": {
    "name": "ipython",
    "version": 3
   },
   "file_extension": ".py",
   "mimetype": "text/x-python",
   "name": "python",
   "nbconvert_exporter": "python",
   "pygments_lexer": "ipython3",
   "version": "3.11.5"
  }
 },
 "nbformat": 4,
 "nbformat_minor": 2
}
